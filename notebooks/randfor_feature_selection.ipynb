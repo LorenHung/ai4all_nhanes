{
 "cells": [
  {
   "cell_type": "code",
   "execution_count": 1,
   "id": "e5875444",
   "metadata": {},
   "outputs": [],
   "source": [
    "import pandas as pd\n",
    "import numpy as np\n",
    "\n",
    "from  sklearn.model_selection import train_test_split\n",
    "\n",
    "from sklearn.pipeline import Pipeline\n",
    "\n",
    "from sklearn.decomposition import PCA\n",
    "from sklearn.impute import SimpleImputer\n",
    "from sklearn.preprocessing import OneHotEncoder\n",
    "from sklearn.preprocessing import StandardScaler\n",
    "\n",
    "from sklearn.ensemble import RandomForestClassifier\n",
    "\n",
    "from sklearn.metrics import roc_auc_score\n",
    "from sklearn.inspection import permutation_importance"
   ]
  },
  {
   "cell_type": "markdown",
   "id": "cf618521",
   "metadata": {},
   "source": [
    "## Import + format data- and save it this time"
   ]
  },
  {
   "cell_type": "code",
   "execution_count": 2,
   "id": "81c315b5",
   "metadata": {},
   "outputs": [
    {
     "name": "stderr",
     "output_type": "stream",
     "text": [
      "/Users/flowerbed/Desktop/School/9th Grade 2020 - 2021/2021 UCSF AI4ALL/GitHub/ai4all_nhanes/env/lib/python3.8/site-packages/IPython/core/interactiveshell.py:3441: DtypeWarning: Columns (600,601) have mixed types.Specify dtype option on import or set low_memory=False.\n",
      "  exec(code_obj, self.user_global_ns, self.user_ns)\n"
     ]
    },
    {
     "data": {
      "text/html": [
       "<div>\n",
       "<style scoped>\n",
       "    .dataframe tbody tr th:only-of-type {\n",
       "        vertical-align: middle;\n",
       "    }\n",
       "\n",
       "    .dataframe tbody tr th {\n",
       "        vertical-align: top;\n",
       "    }\n",
       "\n",
       "    .dataframe thead th {\n",
       "        text-align: right;\n",
       "    }\n",
       "</style>\n",
       "<table border=\"1\" class=\"dataframe\">\n",
       "  <thead>\n",
       "    <tr style=\"text-align: right;\">\n",
       "      <th></th>\n",
       "      <th>DPQ010</th>\n",
       "      <th>DPQ020</th>\n",
       "      <th>DPQ030</th>\n",
       "      <th>DPQ040</th>\n",
       "      <th>DPQ050</th>\n",
       "      <th>DPQ060</th>\n",
       "      <th>DPQ070</th>\n",
       "      <th>DPQ080</th>\n",
       "      <th>DPQ090</th>\n",
       "      <th>DPQ100</th>\n",
       "      <th>labels_raw</th>\n",
       "      <th>labels</th>\n",
       "    </tr>\n",
       "    <tr>\n",
       "      <th>SEQN</th>\n",
       "      <th></th>\n",
       "      <th></th>\n",
       "      <th></th>\n",
       "      <th></th>\n",
       "      <th></th>\n",
       "      <th></th>\n",
       "      <th></th>\n",
       "      <th></th>\n",
       "      <th></th>\n",
       "      <th></th>\n",
       "      <th></th>\n",
       "      <th></th>\n",
       "    </tr>\n",
       "  </thead>\n",
       "  <tbody>\n",
       "    <tr>\n",
       "      <th>62161.0</th>\n",
       "      <td>not at all</td>\n",
       "      <td>not at all</td>\n",
       "      <td>not at all</td>\n",
       "      <td>not at all</td>\n",
       "      <td>not at all</td>\n",
       "      <td>not at all</td>\n",
       "      <td>not at all</td>\n",
       "      <td>not at all</td>\n",
       "      <td>not at all</td>\n",
       "      <td>not at all</td>\n",
       "      <td>0</td>\n",
       "      <td>0</td>\n",
       "    </tr>\n",
       "    <tr>\n",
       "      <th>62169.0</th>\n",
       "      <td>several days</td>\n",
       "      <td>not at all</td>\n",
       "      <td>several days</td>\n",
       "      <td>several days</td>\n",
       "      <td>several days</td>\n",
       "      <td>more than half the days</td>\n",
       "      <td>not at all</td>\n",
       "      <td>several days</td>\n",
       "      <td>not at all</td>\n",
       "      <td>not at all</td>\n",
       "      <td>7</td>\n",
       "      <td>0</td>\n",
       "    </tr>\n",
       "    <tr>\n",
       "      <th>62172.0</th>\n",
       "      <td>several days</td>\n",
       "      <td>more than half the days</td>\n",
       "      <td>several days</td>\n",
       "      <td>several days</td>\n",
       "      <td>several days</td>\n",
       "      <td>not at all</td>\n",
       "      <td>not at all</td>\n",
       "      <td>not at all</td>\n",
       "      <td>not at all</td>\n",
       "      <td>several days</td>\n",
       "      <td>7</td>\n",
       "      <td>0</td>\n",
       "    </tr>\n",
       "    <tr>\n",
       "      <th>62174.0</th>\n",
       "      <td>not at all</td>\n",
       "      <td>not at all</td>\n",
       "      <td>not at all</td>\n",
       "      <td>not at all</td>\n",
       "      <td>not at all</td>\n",
       "      <td>not at all</td>\n",
       "      <td>not at all</td>\n",
       "      <td>not at all</td>\n",
       "      <td>not at all</td>\n",
       "      <td>not at all</td>\n",
       "      <td>0</td>\n",
       "      <td>0</td>\n",
       "    </tr>\n",
       "    <tr>\n",
       "      <th>62176.0</th>\n",
       "      <td>not at all</td>\n",
       "      <td>not at all</td>\n",
       "      <td>not at all</td>\n",
       "      <td>not at all</td>\n",
       "      <td>not at all</td>\n",
       "      <td>not at all</td>\n",
       "      <td>not at all</td>\n",
       "      <td>not at all</td>\n",
       "      <td>not at all</td>\n",
       "      <td>not at all</td>\n",
       "      <td>0</td>\n",
       "      <td>0</td>\n",
       "    </tr>\n",
       "    <tr>\n",
       "      <th>...</th>\n",
       "      <td>...</td>\n",
       "      <td>...</td>\n",
       "      <td>...</td>\n",
       "      <td>...</td>\n",
       "      <td>...</td>\n",
       "      <td>...</td>\n",
       "      <td>...</td>\n",
       "      <td>...</td>\n",
       "      <td>...</td>\n",
       "      <td>...</td>\n",
       "      <td>...</td>\n",
       "      <td>...</td>\n",
       "    </tr>\n",
       "    <tr>\n",
       "      <th>93691.0</th>\n",
       "      <td>not at all</td>\n",
       "      <td>not at all</td>\n",
       "      <td>not at all</td>\n",
       "      <td>not at all</td>\n",
       "      <td>not at all</td>\n",
       "      <td>not at all</td>\n",
       "      <td>not at all</td>\n",
       "      <td>not at all</td>\n",
       "      <td>not at all</td>\n",
       "      <td>not at all</td>\n",
       "      <td>0</td>\n",
       "      <td>0</td>\n",
       "    </tr>\n",
       "    <tr>\n",
       "      <th>93695.0</th>\n",
       "      <td>not at all</td>\n",
       "      <td>several days</td>\n",
       "      <td>not at all</td>\n",
       "      <td>not at all</td>\n",
       "      <td>not at all</td>\n",
       "      <td>not at all</td>\n",
       "      <td>not at all</td>\n",
       "      <td>not at all</td>\n",
       "      <td>not at all</td>\n",
       "      <td>more than half the days</td>\n",
       "      <td>3</td>\n",
       "      <td>0</td>\n",
       "    </tr>\n",
       "    <tr>\n",
       "      <th>93696.0</th>\n",
       "      <td>not at all</td>\n",
       "      <td>not at all</td>\n",
       "      <td>not at all</td>\n",
       "      <td>not at all</td>\n",
       "      <td>not at all</td>\n",
       "      <td>not at all</td>\n",
       "      <td>not at all</td>\n",
       "      <td>not at all</td>\n",
       "      <td>not at all</td>\n",
       "      <td>not at all</td>\n",
       "      <td>0</td>\n",
       "      <td>0</td>\n",
       "    </tr>\n",
       "    <tr>\n",
       "      <th>93697.0</th>\n",
       "      <td>not at all</td>\n",
       "      <td>not at all</td>\n",
       "      <td>not at all</td>\n",
       "      <td>not at all</td>\n",
       "      <td>not at all</td>\n",
       "      <td>not at all</td>\n",
       "      <td>not at all</td>\n",
       "      <td>not at all</td>\n",
       "      <td>not at all</td>\n",
       "      <td>not at all</td>\n",
       "      <td>0</td>\n",
       "      <td>0</td>\n",
       "    </tr>\n",
       "    <tr>\n",
       "      <th>93702.0</th>\n",
       "      <td>not at all</td>\n",
       "      <td>not at all</td>\n",
       "      <td>several days</td>\n",
       "      <td>several days</td>\n",
       "      <td>not at all</td>\n",
       "      <td>not at all</td>\n",
       "      <td>not at all</td>\n",
       "      <td>not at all</td>\n",
       "      <td>not at all</td>\n",
       "      <td>not at all</td>\n",
       "      <td>2</td>\n",
       "      <td>0</td>\n",
       "    </tr>\n",
       "  </tbody>\n",
       "</table>\n",
       "<p>15513 rows × 12 columns</p>\n",
       "</div>"
      ],
      "text/plain": [
       "               DPQ010                   DPQ020        DPQ030        DPQ040  \\\n",
       "SEQN                                                                         \n",
       "62161.0    not at all               not at all    not at all    not at all   \n",
       "62169.0  several days               not at all  several days  several days   \n",
       "62172.0  several days  more than half the days  several days  several days   \n",
       "62174.0    not at all               not at all    not at all    not at all   \n",
       "62176.0    not at all               not at all    not at all    not at all   \n",
       "...               ...                      ...           ...           ...   \n",
       "93691.0    not at all               not at all    not at all    not at all   \n",
       "93695.0    not at all             several days    not at all    not at all   \n",
       "93696.0    not at all               not at all    not at all    not at all   \n",
       "93697.0    not at all               not at all    not at all    not at all   \n",
       "93702.0    not at all               not at all  several days  several days   \n",
       "\n",
       "               DPQ050                   DPQ060      DPQ070        DPQ080  \\\n",
       "SEQN                                                                       \n",
       "62161.0    not at all               not at all  not at all    not at all   \n",
       "62169.0  several days  more than half the days  not at all  several days   \n",
       "62172.0  several days               not at all  not at all    not at all   \n",
       "62174.0    not at all               not at all  not at all    not at all   \n",
       "62176.0    not at all               not at all  not at all    not at all   \n",
       "...               ...                      ...         ...           ...   \n",
       "93691.0    not at all               not at all  not at all    not at all   \n",
       "93695.0    not at all               not at all  not at all    not at all   \n",
       "93696.0    not at all               not at all  not at all    not at all   \n",
       "93697.0    not at all               not at all  not at all    not at all   \n",
       "93702.0    not at all               not at all  not at all    not at all   \n",
       "\n",
       "             DPQ090                   DPQ100  labels_raw  labels  \n",
       "SEQN                                                              \n",
       "62161.0  not at all               not at all           0       0  \n",
       "62169.0  not at all               not at all           7       0  \n",
       "62172.0  not at all             several days           7       0  \n",
       "62174.0  not at all               not at all           0       0  \n",
       "62176.0  not at all               not at all           0       0  \n",
       "...             ...                      ...         ...     ...  \n",
       "93691.0  not at all               not at all           0       0  \n",
       "93695.0  not at all  more than half the days           3       0  \n",
       "93696.0  not at all               not at all           0       0  \n",
       "93697.0  not at all               not at all           0       0  \n",
       "93702.0  not at all               not at all           2       0  \n",
       "\n",
       "[15513 rows x 12 columns]"
      ]
     },
     "execution_count": 2,
     "metadata": {},
     "output_type": "execute_result"
    }
   ],
   "source": [
    "all_data_df = pd.read_csv('all_data_df.csv')\n",
    "all_data_df.index = all_data_df['SEQN']\n",
    "\n",
    "mental_health_df = all_data_df.loc[:, 'DPQ010':'DPQ100'].dropna(how='all')\n",
    "all_data_df = all_data_df.loc[mental_health_df.index]\n",
    "\n",
    "def mh(x):\n",
    "    if x == '\\.':\n",
    "        return 'missing'\n",
    "    elif x == 1:\n",
    "        return 'several days'\n",
    "    elif x == 2:\n",
    "        return 'more than half the days'\n",
    "    elif x == 3:\n",
    "        return 'nearly every day'\n",
    "    elif x == 7:\n",
    "        return 'refused'\n",
    "    elif x == 9:\n",
    "        return \"don't know\"\n",
    "    else:\n",
    "        return 'not at all'\n",
    "\n",
    "for col in mental_health_df.columns:\n",
    "    mental_health_df[col] = mental_health_df[col].apply(lambda x: mh(x))\n",
    "    \n",
    "def calc(row):\n",
    "    sum = 0\n",
    "    for i in ['DPQ010', 'DPQ020', 'DPQ030', 'DPQ040', \n",
    "              'DPQ050', 'DPQ060', 'DPQ070','DPQ080', \n",
    "              'DPQ090', 'DPQ100']:\n",
    "        if row[i] == 'several days':\n",
    "            sum += 1\n",
    "        if row[i] == 'more than half the days':\n",
    "            sum += 2\n",
    "        if row[i] == 'nearly every day':\n",
    "            sum += 3\n",
    "    return sum\n",
    "\n",
    "mental_health_df['labels_raw'] = mental_health_df.apply(calc, axis=1)\n",
    "mental_health_df['labels'] = mental_health_df['labels_raw'].apply(lambda x: 1 if x >= 10 else 0)\n",
    "\n",
    "mental_health_df.to_csv('mental_health_df.csv')\n",
    "mental_health_df"
   ]
  },
  {
   "cell_type": "code",
   "execution_count": 35,
   "id": "122c3551",
   "metadata": {},
   "outputs": [
    {
     "name": "stdout",
     "output_type": "stream",
     "text": [
      "90\n"
     ]
    }
   ],
   "source": [
    "features = [\n",
    "    #diabetes\n",
    "    'DIQ170','DIQ175A','DIQ175B','DIQ175C',\n",
    "    'DIQ175D','DIQ175E','DIQ175F','DIQ175G','DIQ175H','DIQ175I','DIQ175J','DIQ175K',\n",
    "    'DIQ175L', 'DIQ175M','DIQ175N','DIQ175O','DIQ175P','DIQ175Q','DIQ175R','DIQ175S',\n",
    "    'DIQ175T','DIQ175U','DIQ175V','DIQ175W',\n",
    "    'DIQ260U',\n",
    "    #sleep disorder\n",
    "    #physical activity\n",
    "    'PAQ706',\n",
    "    #weight history\n",
    "    'WHD080A','WHD080B',\n",
    "    'WHD080C','WHD080D','WHD080E','WHD080F','WHD080G','WHD080H','WHD080I','WHD080J',\n",
    "    'WHD080K','WHD080M','WHD080N','WHD080O','WHD080P','WHD080Q','WHD080R','WHD080S',\n",
    "    'WHD080T','WHD080L',\n",
    "    #early childhood\n",
    "    'ECD010','ECQ020','ECD070A','ECD070B','ECQ080','ECQ090','WHQ030E','MCQ080E',\n",
    "    'ECQ150', \n",
    "    #alcohol issues\n",
    "    #early childhood\n",
    "    #hospital access\n",
    "    'HUQ071','HUQ090', \n",
    "    #health status\n",
    "    'HSQ520','HSAQUEX',  \n",
    "    #income\n",
    "    #housing\n",
    "    #occupation\n",
    "    #diet nutrition\n",
    "    'DBQ010','DBD030','DBD041','DBD050','DBD055','DBD061','DBQ073A','DBQ073B','DBQ073C',\n",
    "    'DBQ073D','DBQ073E','DBQ073U','DBQ700','DBQ223A','DBQ223B','DBQ223C',\n",
    "    'DBQ223D','DBQ223E','DBQ223U',\n",
    "    'DBQ330','DBQ390','DBQ400','DBD411','DBQ421',\n",
    "    #drug use\n",
    "    'DUQ250','DUQ320',\n",
    "    'DUQ380A','DUQ380B','DUQ380C','DUQ380D','DUQ380E',\n",
    "]\n",
    "\n",
    "print(len(features))"
   ]
  },
  {
   "cell_type": "code",
   "execution_count": 36,
   "id": "0644020e",
   "metadata": {},
   "outputs": [],
   "source": [
    "X = all_data_df[features]\n",
    "y = mental_health_df['labels']\n",
    "\n",
    "X_train, X_test, y_train, y_test = train_test_split(X, y, test_size=0.2, random_state=42)\n",
    "X_val, X_test, y_val, y_test = train_test_split(X_test, y_test, test_size=0.5, random_state=42)"
   ]
  },
  {
   "cell_type": "code",
   "execution_count": 37,
   "id": "1dc16a20",
   "metadata": {},
   "outputs": [
    {
     "data": {
      "text/plain": [
       "Pipeline(steps=[('imputer', SimpleImputer(strategy='most_frequent')),\n",
       "                ('enc', OneHotEncoder(handle_unknown='ignore', sparse=False)),\n",
       "                ('red', PCA(n_components=10)),\n",
       "                ('clf',\n",
       "                 RandomForestClassifier(max_depth=7, n_estimators=1000,\n",
       "                                        random_state=42))])"
      ]
     },
     "execution_count": 37,
     "metadata": {},
     "output_type": "execute_result"
    }
   ],
   "source": [
    "randfor_pipe = Pipeline([\n",
    "    ('imputer', SimpleImputer(strategy='most_frequent')),\n",
    "    ('enc', OneHotEncoder(sparse=False, handle_unknown='ignore')), \n",
    "    ('red', PCA(n_components=10)),\n",
    "    ('clf', RandomForestClassifier(max_depth=7, n_estimators=1000, random_state=42))\n",
    "])\n",
    "randfor_pipe.fit(X_train, y_train)"
   ]
  },
  {
   "cell_type": "code",
   "execution_count": 38,
   "id": "697e24f8",
   "metadata": {},
   "outputs": [
    {
     "name": "stdout",
     "output_type": "stream",
     "text": [
      "0.7443638667779601\n"
     ]
    },
    {
     "data": {
      "text/plain": [
       "0.7050442083836906"
      ]
     },
     "execution_count": 38,
     "metadata": {},
     "output_type": "execute_result"
    }
   ],
   "source": [
    "randfor_training_score = roc_auc_score(y_train.values, randfor_pipe.predict_proba(X_train)[:, 1])\n",
    "randfor_validation_score = roc_auc_score(y_val.values, randfor_pipe.predict_proba(X_val)[:, 1])\n",
    "print(randfor_training_score)\n",
    "randfor_validation_score"
   ]
  },
  {
   "cell_type": "markdown",
   "id": "270a0534",
   "metadata": {},
   "source": [
    "## Feature Importance"
   ]
  },
  {
   "cell_type": "markdown",
   "id": "4ae39c16",
   "metadata": {},
   "source": [
    "### Round 1"
   ]
  },
  {
   "cell_type": "code",
   "execution_count": 39,
   "id": "ac58c05f",
   "metadata": {},
   "outputs": [],
   "source": [
    "r = permutation_importance(\n",
    "    randfor_pipe, \n",
    "    X_val, \n",
    "    y_val,\n",
    "    n_repeats=10,\n",
    "    n_jobs=-1,\n",
    "    random_state=42\n",
    ")"
   ]
  },
  {
   "cell_type": "code",
   "execution_count": 40,
   "id": "88d55b68",
   "metadata": {},
   "outputs": [
    {
     "data": {
      "text/html": [
       "<div>\n",
       "<style scoped>\n",
       "    .dataframe tbody tr th:only-of-type {\n",
       "        vertical-align: middle;\n",
       "    }\n",
       "\n",
       "    .dataframe tbody tr th {\n",
       "        vertical-align: top;\n",
       "    }\n",
       "\n",
       "    .dataframe thead th {\n",
       "        text-align: right;\n",
       "    }\n",
       "</style>\n",
       "<table border=\"1\" class=\"dataframe\">\n",
       "  <thead>\n",
       "    <tr style=\"text-align: right;\">\n",
       "      <th></th>\n",
       "      <th>importance_means</th>\n",
       "      <th>importances_std</th>\n",
       "    </tr>\n",
       "  </thead>\n",
       "  <tbody>\n",
       "    <tr>\n",
       "      <th>HUQ090</th>\n",
       "      <td>0.008640</td>\n",
       "      <td>0.001230</td>\n",
       "    </tr>\n",
       "    <tr>\n",
       "      <th>DBQ700</th>\n",
       "      <td>0.007286</td>\n",
       "      <td>0.001658</td>\n",
       "    </tr>\n",
       "    <tr>\n",
       "      <th>HUQ071</th>\n",
       "      <td>0.004191</td>\n",
       "      <td>0.000967</td>\n",
       "    </tr>\n",
       "    <tr>\n",
       "      <th>DIQ170</th>\n",
       "      <td>0.001999</td>\n",
       "      <td>0.001096</td>\n",
       "    </tr>\n",
       "    <tr>\n",
       "      <th>HSQ520</th>\n",
       "      <td>0.001805</td>\n",
       "      <td>0.000948</td>\n",
       "    </tr>\n",
       "    <tr>\n",
       "      <th>...</th>\n",
       "      <td>...</td>\n",
       "      <td>...</td>\n",
       "    </tr>\n",
       "    <tr>\n",
       "      <th>WHD080D</th>\n",
       "      <td>0.000000</td>\n",
       "      <td>0.000000</td>\n",
       "    </tr>\n",
       "    <tr>\n",
       "      <th>WHD080C</th>\n",
       "      <td>0.000000</td>\n",
       "      <td>0.000000</td>\n",
       "    </tr>\n",
       "    <tr>\n",
       "      <th>WHD080B</th>\n",
       "      <td>0.000000</td>\n",
       "      <td>0.000000</td>\n",
       "    </tr>\n",
       "    <tr>\n",
       "      <th>WHD080A</th>\n",
       "      <td>0.000000</td>\n",
       "      <td>0.000000</td>\n",
       "    </tr>\n",
       "    <tr>\n",
       "      <th>DUQ380E</th>\n",
       "      <td>0.000000</td>\n",
       "      <td>0.000000</td>\n",
       "    </tr>\n",
       "  </tbody>\n",
       "</table>\n",
       "<p>90 rows × 2 columns</p>\n",
       "</div>"
      ],
      "text/plain": [
       "         importance_means  importances_std\n",
       "HUQ090           0.008640         0.001230\n",
       "DBQ700           0.007286         0.001658\n",
       "HUQ071           0.004191         0.000967\n",
       "DIQ170           0.001999         0.001096\n",
       "HSQ520           0.001805         0.000948\n",
       "...                   ...              ...\n",
       "WHD080D          0.000000         0.000000\n",
       "WHD080C          0.000000         0.000000\n",
       "WHD080B          0.000000         0.000000\n",
       "WHD080A          0.000000         0.000000\n",
       "DUQ380E          0.000000         0.000000\n",
       "\n",
       "[90 rows x 2 columns]"
      ]
     },
     "execution_count": 40,
     "metadata": {},
     "output_type": "execute_result"
    }
   ],
   "source": [
    "feature_importances = pd.DataFrame.from_dict(\n",
    "    {\n",
    "        'importance_means': r['importances_mean'],\n",
    "        'importances_std': r['importances_std']\n",
    "    }, orient='columns'\n",
    ")\n",
    "feature_importances.index = X_val.columns\n",
    "\n",
    "feature_importances.sort_values('importance_means', ascending = False)"
   ]
  },
  {
   "cell_type": "code",
   "execution_count": 41,
   "id": "2c766c0f",
   "metadata": {},
   "outputs": [
    {
     "name": "stdout",
     "output_type": "stream",
     "text": [
      "78\n"
     ]
    },
    {
     "data": {
      "text/plain": [
       "['DIQ175A',\n",
       " 'DIQ175B',\n",
       " 'DIQ175C',\n",
       " 'DIQ175D',\n",
       " 'DIQ175E',\n",
       " 'DIQ175F',\n",
       " 'DIQ175G',\n",
       " 'DIQ175H',\n",
       " 'DIQ175I',\n",
       " 'DIQ175J',\n",
       " 'DIQ175K',\n",
       " 'DIQ175L',\n",
       " 'DIQ175M',\n",
       " 'DIQ175N',\n",
       " 'DIQ175O',\n",
       " 'DIQ175P',\n",
       " 'DIQ175Q',\n",
       " 'DIQ175R',\n",
       " 'DIQ175S',\n",
       " 'DIQ175T',\n",
       " 'DIQ175U',\n",
       " 'DIQ175V',\n",
       " 'DIQ175W',\n",
       " 'PAQ706',\n",
       " 'WHD080A',\n",
       " 'WHD080B',\n",
       " 'WHD080C',\n",
       " 'WHD080D',\n",
       " 'WHD080E',\n",
       " 'WHD080F',\n",
       " 'WHD080G',\n",
       " 'WHD080H',\n",
       " 'WHD080I',\n",
       " 'WHD080J',\n",
       " 'WHD080K',\n",
       " 'WHD080M',\n",
       " 'WHD080N',\n",
       " 'WHD080O',\n",
       " 'WHD080P',\n",
       " 'WHD080Q',\n",
       " 'WHD080R',\n",
       " 'WHD080S',\n",
       " 'WHD080T',\n",
       " 'WHD080L',\n",
       " 'ECD010',\n",
       " 'ECQ020',\n",
       " 'ECD070A',\n",
       " 'ECD070B',\n",
       " 'ECQ080',\n",
       " 'ECQ090',\n",
       " 'WHQ030E',\n",
       " 'MCQ080E',\n",
       " 'ECQ150',\n",
       " 'HSAQUEX',\n",
       " 'DBQ010',\n",
       " 'DBD030',\n",
       " 'DBD041',\n",
       " 'DBD050',\n",
       " 'DBD055',\n",
       " 'DBD061',\n",
       " 'DBQ073A',\n",
       " 'DBQ073B',\n",
       " 'DBQ073C',\n",
       " 'DBQ073D',\n",
       " 'DBQ073E',\n",
       " 'DBQ073U',\n",
       " 'DBQ223A',\n",
       " 'DBQ223B',\n",
       " 'DBQ223C',\n",
       " 'DBQ223D',\n",
       " 'DBQ223E',\n",
       " 'DBQ223U',\n",
       " 'DBQ400',\n",
       " 'DUQ380A',\n",
       " 'DUQ380B',\n",
       " 'DUQ380C',\n",
       " 'DUQ380D',\n",
       " 'DUQ380E']"
      ]
     },
     "execution_count": 41,
     "metadata": {},
     "output_type": "execute_result"
    }
   ],
   "source": [
    "remove = []\n",
    "\n",
    "for feature in feature_importances[\n",
    "    (feature_importances['importance_means'] <= 0) & \n",
    "    (abs(feature_importances['importance_means']) >= feature_importances['importances_std'])\n",
    "].index:\n",
    "    # print(feature)\n",
    "    remove.append(feature)\n",
    "\n",
    "print(len(remove))\n",
    "remove"
   ]
  },
  {
   "cell_type": "code",
   "execution_count": 42,
   "id": "12137575",
   "metadata": {},
   "outputs": [
    {
     "name": "stdout",
     "output_type": "stream",
     "text": [
      "12\n"
     ]
    },
    {
     "data": {
      "text/plain": [
       "['DIQ170',\n",
       " 'DIQ260U',\n",
       " 'HUQ071',\n",
       " 'HUQ090',\n",
       " 'HSQ520',\n",
       " 'DBQ700',\n",
       " 'DBQ330',\n",
       " 'DBQ390',\n",
       " 'DBD411',\n",
       " 'DBQ421',\n",
       " 'DUQ250',\n",
       " 'DUQ320']"
      ]
     },
     "execution_count": 42,
     "metadata": {},
     "output_type": "execute_result"
    }
   ],
   "source": [
    "for feature in remove:\n",
    "    features.remove(feature)\n",
    "\n",
    "print(len(features))\n",
    "features"
   ]
  },
  {
   "cell_type": "code",
   "execution_count": 45,
   "id": "58d9f25b",
   "metadata": {},
   "outputs": [
    {
     "name": "stdout",
     "output_type": "stream",
     "text": [
      "0.7438470618051987\n"
     ]
    },
    {
     "data": {
      "text/plain": [
       "0.7027065708288276"
      ]
     },
     "execution_count": 45,
     "metadata": {},
     "output_type": "execute_result"
    }
   ],
   "source": [
    "X = all_data_df[features]\n",
    "y = mental_health_df['labels']\n",
    "\n",
    "X_train, X_test, y_train, y_test = train_test_split(X, y, test_size=0.2, random_state=42)\n",
    "X_val, X_test, y_val, y_test = train_test_split(X_test, y_test, test_size=0.5, random_state=42)\n",
    "\n",
    "\n",
    "rf_pipe = Pipeline([\n",
    "    ('imputer', SimpleImputer(strategy='most_frequent')),\n",
    "    ('enc', OneHotEncoder(sparse=False, handle_unknown='ignore')), \n",
    "    ('red', PCA(n_components=10)),\n",
    "    ('clf', RandomForestClassifier(max_depth=7, n_estimators=1000, random_state=42))\n",
    "])\n",
    "rf_pipe.fit(X_train, y_train)\n",
    "\n",
    "\n",
    "rf_training_score = roc_auc_score(y_train.values, rf_pipe.predict_proba(X_train)[:, 1])\n",
    "rf_validation_score = roc_auc_score(y_val.values, rf_pipe.predict_proba(X_val)[:, 1])\n",
    "print(rf_training_score)\n",
    "rf_validation_score"
   ]
  },
  {
   "cell_type": "markdown",
   "id": "0f6536b3",
   "metadata": {},
   "source": [
    "### Round 2"
   ]
  },
  {
   "cell_type": "code",
   "execution_count": 46,
   "id": "3007e876",
   "metadata": {},
   "outputs": [
    {
     "name": "stdout",
     "output_type": "stream",
     "text": [
      "4\n"
     ]
    },
    {
     "data": {
      "text/plain": [
       "['DBQ390', 'DBD411', 'DBQ421', 'DUQ320']"
      ]
     },
     "execution_count": 46,
     "metadata": {},
     "output_type": "execute_result"
    }
   ],
   "source": [
    "r = permutation_importance(\n",
    "    rf_pipe, \n",
    "    X_val, \n",
    "    y_val,\n",
    "    n_repeats=10,\n",
    "    n_jobs=-1,\n",
    "    random_state=42\n",
    ")\n",
    "\n",
    "\n",
    "feature_importances = pd.DataFrame.from_dict(\n",
    "    {\n",
    "        'importance_means': r['importances_mean'],\n",
    "        'importances_std': r['importances_std']\n",
    "    }, orient='columns'\n",
    ")\n",
    "feature_importances.index = X_val.columns\n",
    "\n",
    "#feature_importances.sort_values('importance_means', ascending = False)\n",
    "\n",
    "\n",
    "remove = []\n",
    "\n",
    "for feature in feature_importances[\n",
    "    (feature_importances['importance_means'] <= 0) & \n",
    "    (abs(feature_importances['importance_means']) >= feature_importances['importances_std'])\n",
    "].index:\n",
    "    # print(feature)\n",
    "    remove.append(feature)\n",
    "\n",
    "print(len(remove))\n",
    "remove"
   ]
  },
  {
   "cell_type": "code",
   "execution_count": 47,
   "id": "358e60ed",
   "metadata": {},
   "outputs": [
    {
     "name": "stdout",
     "output_type": "stream",
     "text": [
      "8\n"
     ]
    },
    {
     "data": {
      "text/plain": [
       "['DIQ170',\n",
       " 'DIQ260U',\n",
       " 'HUQ071',\n",
       " 'HUQ090',\n",
       " 'HSQ520',\n",
       " 'DBQ700',\n",
       " 'DBQ330',\n",
       " 'DUQ250']"
      ]
     },
     "execution_count": 47,
     "metadata": {},
     "output_type": "execute_result"
    }
   ],
   "source": [
    "for feature in remove:\n",
    "    features.remove(feature)\n",
    "\n",
    "print(len(features))\n",
    "features"
   ]
  },
  {
   "cell_type": "code",
   "execution_count": 48,
   "id": "4183e1ea",
   "metadata": {},
   "outputs": [
    {
     "name": "stdout",
     "output_type": "stream",
     "text": [
      "0.7421677058153777\n"
     ]
    },
    {
     "data": {
      "text/plain": [
       "0.7034130871354967"
      ]
     },
     "execution_count": 48,
     "metadata": {},
     "output_type": "execute_result"
    }
   ],
   "source": [
    "X = all_data_df[features]\n",
    "y = mental_health_df['labels']\n",
    "\n",
    "X_train, X_test, y_train, y_test = train_test_split(X, y, test_size=0.2, random_state=42)\n",
    "X_val, X_test, y_val, y_test = train_test_split(X_test, y_test, test_size=0.5, random_state=42)\n",
    "\n",
    "\n",
    "rf_pipe = Pipeline([\n",
    "    ('imputer', SimpleImputer(strategy='most_frequent')),\n",
    "    ('enc', OneHotEncoder(sparse=False, handle_unknown='ignore')), \n",
    "    ('red', PCA(n_components=10)),\n",
    "    ('clf', RandomForestClassifier(max_depth=7, n_estimators=1000, random_state=42))\n",
    "])\n",
    "rf_pipe.fit(X_train, y_train)\n",
    "\n",
    "\n",
    "rf_training_score = roc_auc_score(y_train.values, rf_pipe.predict_proba(X_train)[:, 1])\n",
    "rf_validation_score = roc_auc_score(y_val.values, rf_pipe.predict_proba(X_val)[:, 1])\n",
    "print(rf_training_score)\n",
    "rf_validation_score"
   ]
  },
  {
   "cell_type": "markdown",
   "id": "6f96df4e",
   "metadata": {},
   "source": [
    "### Round 3"
   ]
  },
  {
   "cell_type": "code",
   "execution_count": 49,
   "id": "cd1147fa",
   "metadata": {},
   "outputs": [
    {
     "name": "stdout",
     "output_type": "stream",
     "text": [
      "0\n"
     ]
    },
    {
     "data": {
      "text/plain": [
       "[]"
      ]
     },
     "execution_count": 49,
     "metadata": {},
     "output_type": "execute_result"
    }
   ],
   "source": [
    "r = permutation_importance(\n",
    "    rf_pipe, \n",
    "    X_val, \n",
    "    y_val,\n",
    "    n_repeats=10,\n",
    "    n_jobs=-1,\n",
    "    random_state=42\n",
    ")\n",
    "\n",
    "\n",
    "feature_importances = pd.DataFrame.from_dict(\n",
    "    {\n",
    "        'importance_means': r['importances_mean'],\n",
    "        'importances_std': r['importances_std']\n",
    "    }, orient='columns'\n",
    ")\n",
    "feature_importances.index = X_val.columns\n",
    "\n",
    "#feature_importances.sort_values('importance_means', ascending = False)\n",
    "\n",
    "\n",
    "remove = []\n",
    "\n",
    "for feature in feature_importances[\n",
    "    (feature_importances['importance_means'] <= 0) & \n",
    "    (abs(feature_importances['importance_means']) >= feature_importances['importances_std'])\n",
    "].index:\n",
    "    # print(feature)\n",
    "    remove.append(feature)\n",
    "\n",
    "print(len(remove))\n",
    "remove"
   ]
  },
  {
   "cell_type": "code",
   "execution_count": 50,
   "id": "c7f8765c",
   "metadata": {},
   "outputs": [
    {
     "name": "stdout",
     "output_type": "stream",
     "text": [
      "8\n"
     ]
    },
    {
     "data": {
      "text/plain": [
       "['DIQ170',\n",
       " 'DIQ260U',\n",
       " 'HUQ071',\n",
       " 'HUQ090',\n",
       " 'HSQ520',\n",
       " 'DBQ700',\n",
       " 'DBQ330',\n",
       " 'DUQ250']"
      ]
     },
     "execution_count": 50,
     "metadata": {},
     "output_type": "execute_result"
    }
   ],
   "source": [
    "for feature in remove:\n",
    "    features.remove(feature)\n",
    "\n",
    "print(len(features))\n",
    "features"
   ]
  },
  {
   "cell_type": "code",
   "execution_count": 51,
   "id": "911e874c",
   "metadata": {},
   "outputs": [
    {
     "name": "stdout",
     "output_type": "stream",
     "text": [
      "0.7421677058153777\n"
     ]
    },
    {
     "data": {
      "text/plain": [
       "0.7034130871354967"
      ]
     },
     "execution_count": 51,
     "metadata": {},
     "output_type": "execute_result"
    }
   ],
   "source": [
    "X = all_data_df[features]\n",
    "y = mental_health_df['labels']\n",
    "\n",
    "X_train, X_test, y_train, y_test = train_test_split(X, y, test_size=0.2, random_state=42)\n",
    "X_val, X_test, y_val, y_test = train_test_split(X_test, y_test, test_size=0.5, random_state=42)\n",
    "\n",
    "\n",
    "rf_pipe = Pipeline([\n",
    "    ('imputer', SimpleImputer(strategy='most_frequent')),\n",
    "    ('enc', OneHotEncoder(sparse=False, handle_unknown='ignore')), \n",
    "    ('red', PCA(n_components=10)),\n",
    "    ('clf', RandomForestClassifier(max_depth=7, n_estimators=1000, random_state=42))\n",
    "])\n",
    "rf_pipe.fit(X_train, y_train)\n",
    "\n",
    "\n",
    "rf_training_score = roc_auc_score(y_train.values, rf_pipe.predict_proba(X_train)[:, 1])\n",
    "rf_validation_score = roc_auc_score(y_val.values, rf_pipe.predict_proba(X_val)[:, 1])\n",
    "print(rf_training_score)\n",
    "rf_validation_score"
   ]
  },
  {
   "cell_type": "markdown",
   "id": "e7d79497",
   "metadata": {},
   "source": [
    "### Round 4"
   ]
  },
  {
   "cell_type": "code",
   "execution_count": 52,
   "id": "b21ef26b",
   "metadata": {},
   "outputs": [
    {
     "name": "stdout",
     "output_type": "stream",
     "text": [
      "0\n"
     ]
    },
    {
     "data": {
      "text/plain": [
       "[]"
      ]
     },
     "execution_count": 52,
     "metadata": {},
     "output_type": "execute_result"
    }
   ],
   "source": [
    "r = permutation_importance(\n",
    "    rf_pipe, \n",
    "    X_val, \n",
    "    y_val,\n",
    "    n_repeats=10,\n",
    "    n_jobs=-1,\n",
    "    random_state=42\n",
    ")\n",
    "\n",
    "\n",
    "feature_importances = pd.DataFrame.from_dict(\n",
    "    {\n",
    "        'importance_means': r['importances_mean'],\n",
    "        'importances_std': r['importances_std']\n",
    "    }, orient='columns'\n",
    ")\n",
    "feature_importances.index = X_val.columns\n",
    "\n",
    "#feature_importances.sort_values('importance_means', ascending = False)\n",
    "\n",
    "\n",
    "remove = []\n",
    "\n",
    "for feature in feature_importances[\n",
    "    (feature_importances['importance_means'] <= 0) & \n",
    "    (abs(feature_importances['importance_means']) >= feature_importances['importances_std'])\n",
    "].index:\n",
    "    # print(feature)\n",
    "    remove.append(feature)\n",
    "\n",
    "print(len(remove))\n",
    "remove"
   ]
  },
  {
   "cell_type": "code",
   "execution_count": 53,
   "id": "a69bc47a",
   "metadata": {},
   "outputs": [
    {
     "name": "stdout",
     "output_type": "stream",
     "text": [
      "8\n"
     ]
    },
    {
     "data": {
      "text/plain": [
       "['DIQ170',\n",
       " 'DIQ260U',\n",
       " 'HUQ071',\n",
       " 'HUQ090',\n",
       " 'HSQ520',\n",
       " 'DBQ700',\n",
       " 'DBQ330',\n",
       " 'DUQ250']"
      ]
     },
     "execution_count": 53,
     "metadata": {},
     "output_type": "execute_result"
    }
   ],
   "source": [
    "for feature in remove:\n",
    "    features.remove(feature)\n",
    "\n",
    "print(len(features))\n",
    "features"
   ]
  },
  {
   "cell_type": "code",
   "execution_count": 54,
   "id": "818e6bb9",
   "metadata": {},
   "outputs": [
    {
     "name": "stdout",
     "output_type": "stream",
     "text": [
      "0.7421677058153777\n"
     ]
    },
    {
     "data": {
      "text/plain": [
       "0.7034130871354967"
      ]
     },
     "execution_count": 54,
     "metadata": {},
     "output_type": "execute_result"
    }
   ],
   "source": [
    "X = all_data_df[features]\n",
    "y = mental_health_df['labels']\n",
    "\n",
    "X_train, X_test, y_train, y_test = train_test_split(X, y, test_size=0.2, random_state=42)\n",
    "X_val, X_test, y_val, y_test = train_test_split(X_test, y_test, test_size=0.5, random_state=42)\n",
    "\n",
    "\n",
    "rf_pipe = Pipeline([\n",
    "    ('imputer', SimpleImputer(strategy='most_frequent')),\n",
    "    ('enc', OneHotEncoder(sparse=False, handle_unknown='ignore')), \n",
    "    ('red', PCA(n_components=10)),\n",
    "    ('clf', RandomForestClassifier(max_depth=7, n_estimators=1000, random_state=42))\n",
    "])\n",
    "rf_pipe.fit(X_train, y_train)\n",
    "\n",
    "\n",
    "rf_training_score = roc_auc_score(y_train.values, rf_pipe.predict_proba(X_train)[:, 1])\n",
    "rf_validation_score = roc_auc_score(y_val.values, rf_pipe.predict_proba(X_val)[:, 1])\n",
    "print(rf_training_score)\n",
    "rf_validation_score"
   ]
  }
 ],
 "metadata": {
  "kernelspec": {
   "display_name": "Python 3 (ipykernel)",
   "language": "python",
   "name": "python3"
  },
  "language_info": {
   "codemirror_mode": {
    "name": "ipython",
    "version": 3
   },
   "file_extension": ".py",
   "mimetype": "text/x-python",
   "name": "python",
   "nbconvert_exporter": "python",
   "pygments_lexer": "ipython3",
   "version": "3.8.8"
  }
 },
 "nbformat": 4,
 "nbformat_minor": 5
}
