{
 "cells": [
  {
   "cell_type": "code",
   "execution_count": 1,
   "id": "3d7dc51b",
   "metadata": {},
   "outputs": [],
   "source": [
    "import pandas as pd\n",
    "import numpy as np\n",
    "import matplotlib.pyplot as plt\n",
    "from  sklearn.model_selection import train_test_split\n",
    "from sklearn.pipeline import Pipeline\n",
    "from sklearn.impute import SimpleImputer\n",
    "from sklearn.metrics import roc_auc_score\n",
    "from sklearn import datasets, linear_model\n",
    "from sklearn.metrics import mean_squared_error, r2_score"
   ]
  },
  {
   "cell_type": "code",
   "execution_count": 5,
   "id": "1616e6bf",
   "metadata": {},
   "outputs": [
    {
     "name": "stdout",
     "output_type": "stream",
     "text": [
      "<class 'pandas.core.frame.DataFrame'>\n",
      "RangeIndex: 29902 entries, 0 to 29901\n",
      "Columns: 674 entries, SEQN to WHQ150\n",
      "dtypes: float64(672), object(2)\n",
      "memory usage: 153.8+ MB\n"
     ]
    },
    {
     "name": "stderr",
     "output_type": "stream",
     "text": [
      "C:\\Users\\udona\\anaconda3\\lib\\site-packages\\IPython\\core\\interactiveshell.py:3165: DtypeWarning: Columns (600,601) have mixed types.Specify dtype option on import or set low_memory=False.\n",
      "  has_raised = await self.run_ast_nodes(code_ast.body, cell_name,\n"
     ]
    }
   ],
   "source": [
    "all_data_df = pd.read_csv('all_data_df.csv')\n",
    "all_data_df.info()"
   ]
  },
  {
   "cell_type": "code",
   "execution_count": 6,
   "id": "04adb59c",
   "metadata": {},
   "outputs": [],
   "source": [
    "features = [\n",
    "    #diabetes\n",
    "    'DID040','DIQ160','DIQ170','DIQ172','DIQ175A','DIQ175B','DIQ175C',\n",
    "    'DIQ175D','DIQ175E','DIQ175F','DIQ175G','DIQ175H','DIQ175I','DIQ175J','DIQ175K',\n",
    "    'DIQ175L', 'DIQ175M','DIQ175N','DIQ175O','DIQ175P','DIQ175Q','DIQ175R','DIQ175S',\n",
    "    'DIQ175T','DIQ175U','DIQ175V','DIQ175W','DIQ180','DIQ050','DID060','DIQ060U',\n",
    "    'DIQ070','DIQ230','DIQ240','DID250','DID260','DIQ260U','DIQ275','DIQ280','DIQ291',\n",
    "    'DIQ300S','DIQ300D','DID310S','DID310D','DID320','DID330','DID341','DID350',\n",
    "    'DIQ350U','DIQ360','DIQ080', \n",
    "    #sleep disorder\n",
    "    'SEQN','SLQ050', \n",
    "    #physical activity\n",
    "    'PAQ605','PAQ610','PAD615','PAQ620','PAQ625','PAD630','PAQ635','PAQ640','PAD645',\n",
    "    'PAQ650','PAQ655','PAD660','PAQ665','PAQ670','PAD675','PAD680','PAQ706','PAQ710',\n",
    "    'PAQ715', \n",
    "    #weight history\n",
    "    'WHD010','WHD020','WHQ030','WHQ040','WHD050','WHQ060','WHQ070','WHD080A','WHD080B',\n",
    "    'WHD080C','WHD080D','WHD080E','WHD080F','WHD080G','WHD080H','WHD080I','WHD080J',\n",
    "    'WHD080K','WHD080M','WHD080N','WHD080O','WHD080P','WHD080Q','WHD080R','WHD080S',\n",
    "    'WHD080T','WHD080L','WHD110','WHD120','WHD130','WHD140','WHQ150', \n",
    "    #early childhood\n",
    "    'ECD010','ECQ020','ECD070A','ECD070B','ECQ080','ECQ090','WHQ030E','MCQ080E',\n",
    "    'ECQ150', \n",
    "    #alcohol issues\n",
    "    'ALQ101','ALQ110','ALQ120Q','ALQ120U','ALQ130','ALQ141Q','ALQ141U','ALQ151',\n",
    "    #early childhood\n",
    "    'ECD010','ECQ020','ECD070A','ECD070B','ECQ080','ECQ090','WHQ030E','MCQ080E','ECQ150', \n",
    "    #hospital access\n",
    "    'HUQ010','HUQ020','HUQ030','HUQ071','HUD080','HUQ090', \n",
    "    #health status\n",
    "    'HSD010','HSQ500','HSQ510','HSQ520','HSQ571','HSQ580','HSQ590','HSAQUEX',  \n",
    "    #income\n",
    "    'INQ012','INQ030','INQ060','INQ080','INQ090','INQ132','INQ140','INQ150',\n",
    "    'IND235','INDFMMPI','INDFMMPC', \n",
    "    #housing\n",
    "    'SEQN','HOD050','HOQ065', \n",
    "    #occupation\n",
    "    'OCD150','OCQ180','OCQ210','OCQ260','OCD270','OCQ380','OCD390G','OCD395', \n",
    "    #mental health\n",
    "    'DPQ010','DPQ020','DPQ030','DPQ040','DPQ050','DPQ060','DPQ070','DPQ080','DPQ090','DPQ100', \n",
    "    #demographic\n",
    "    'SDDSRVYR','RIDSTATR','RIAGENDR','RIDAGEYR','RIDAGEMN','RIDRETH1','RIDRETH3',\n",
    "    'RIDEXMON','RIDEXAGM','DMQMILIZ','DMQADFC','DMDBORN4','DMDCITZN','DMDYRSUS',\n",
    "    'DMDEDUC3','DMDEDUC2','DMDMARTL','RIDEXPRG','SIALANG','SIAPROXY','SIAINTRP',\n",
    "    'FIALANG','FIAPROXY','FIAINTRP','MIALANG','MIAPROXY','MIAINTRP','AIALANGA',\n",
    "    'DMDHHSIZ','DMDFMSIZ','DMDHHSZA','DMDHHSZB','DMDHHSZE','DMDHRGND','DMDHRAGE',\n",
    "    'DMDHRBR4','DMDHREDU','DMDHRMAR','DMDHSEDU','WTINT2YR','WTMEC2YR','SDMVPSU',\n",
    "    'SDMVSTRA','INDHHIN2','INDFMIN2','INDFMPIR', \n",
    "    #diet nutrition\n",
    "    'DBQ010','DBD030','DBD041','DBD050','DBD055','DBD061','DBQ073A','DBQ073B','DBQ073C',\n",
    "    'DBQ073D','DBQ073E','DBQ073U','DBQ700','DBQ197','DBQ223A','DBQ223B','DBQ223C',\n",
    "    'DBQ223D','DBQ223E','DBQ223U','DBQ229','DBQ235A','DBQ235B','DBQ235C','DBQ301',\n",
    "    'DBQ330','DBQ360','DBQ370','DBD381','DBQ390','DBQ400','DBD411','DBQ421','DBQ424',\n",
    "    'DBD895','DBD900','DBD905','DBD910', \n",
    "    #drug use\n",
    "    'DUQ200','DUQ210','DUQ211','DUQ213','DUQ215Q','DUQ215U','DUQ217','DUQ219','DUQ220Q',\n",
    "    'DUQ220U','DUQ230','DUQ240','DUQ250','DUQ260','DUQ270Q','DUQ270U','DUQ272','DUQ280',\n",
    "    'DUQ290','DUQ300','DUQ310Q','DUQ310U','DUQ320','DUQ330','DUQ340','DUQ350Q','DUQ350U',\n",
    "    'DUQ352','DUQ360','DUQ370','DUQ380A','DUQ380B','DUQ380C','DUQ380D','DUQ380E',\n",
    "    'DUQ390','DUQ400Q','DUQ400U','DUQ410','DUQ420', \n",
    "    \n",
    "]\n",
    "\n",
    "label = 'DIQ010'"
   ]
  },
  {
   "cell_type": "code",
   "execution_count": 7,
   "id": "11c77cfb",
   "metadata": {},
   "outputs": [],
   "source": [
    "final_features = []\n",
    "\n",
    "for feature in features:\n",
    "    if feature not in final_features and feature != 'SEQN':\n",
    "        final_features.append(feature)"
   ]
  },
  {
   "cell_type": "code",
   "execution_count": 8,
   "id": "c6b9770b",
   "metadata": {},
   "outputs": [
    {
     "data": {
      "text/html": [
       "<div>\n",
       "<style scoped>\n",
       "    .dataframe tbody tr th:only-of-type {\n",
       "        vertical-align: middle;\n",
       "    }\n",
       "\n",
       "    .dataframe tbody tr th {\n",
       "        vertical-align: top;\n",
       "    }\n",
       "\n",
       "    .dataframe thead th {\n",
       "        text-align: right;\n",
       "    }\n",
       "</style>\n",
       "<table border=\"1\" class=\"dataframe\">\n",
       "  <thead>\n",
       "    <tr style=\"text-align: right;\">\n",
       "      <th></th>\n",
       "      <th>DIQ010</th>\n",
       "      <th>label</th>\n",
       "    </tr>\n",
       "  </thead>\n",
       "  <tbody>\n",
       "    <tr>\n",
       "      <th>21286</th>\n",
       "      <td>2.0</td>\n",
       "      <td>False</td>\n",
       "    </tr>\n",
       "    <tr>\n",
       "      <th>3398</th>\n",
       "      <td>2.0</td>\n",
       "      <td>False</td>\n",
       "    </tr>\n",
       "    <tr>\n",
       "      <th>3534</th>\n",
       "      <td>2.0</td>\n",
       "      <td>False</td>\n",
       "    </tr>\n",
       "    <tr>\n",
       "      <th>12220</th>\n",
       "      <td>2.0</td>\n",
       "      <td>False</td>\n",
       "    </tr>\n",
       "    <tr>\n",
       "      <th>28317</th>\n",
       "      <td>2.0</td>\n",
       "      <td>False</td>\n",
       "    </tr>\n",
       "    <tr>\n",
       "      <th>26315</th>\n",
       "      <td>1.0</td>\n",
       "      <td>True</td>\n",
       "    </tr>\n",
       "    <tr>\n",
       "      <th>12922</th>\n",
       "      <td>2.0</td>\n",
       "      <td>False</td>\n",
       "    </tr>\n",
       "    <tr>\n",
       "      <th>15893</th>\n",
       "      <td>1.0</td>\n",
       "      <td>True</td>\n",
       "    </tr>\n",
       "    <tr>\n",
       "      <th>12544</th>\n",
       "      <td>2.0</td>\n",
       "      <td>False</td>\n",
       "    </tr>\n",
       "    <tr>\n",
       "      <th>16556</th>\n",
       "      <td>2.0</td>\n",
       "      <td>False</td>\n",
       "    </tr>\n",
       "  </tbody>\n",
       "</table>\n",
       "</div>"
      ],
      "text/plain": [
       "       DIQ010  label\n",
       "21286     2.0  False\n",
       "3398      2.0  False\n",
       "3534      2.0  False\n",
       "12220     2.0  False\n",
       "28317     2.0  False\n",
       "26315     1.0   True\n",
       "12922     2.0  False\n",
       "15893     1.0   True\n",
       "12544     2.0  False\n",
       "16556     2.0  False"
      ]
     },
     "execution_count": 8,
     "metadata": {},
     "output_type": "execute_result"
    }
   ],
   "source": [
    "all_data_df['label'] = all_data_df[label].apply(lambda x: x == 1)\n",
    "all_data_df[[label, 'label']].sample(10)"
   ]
  },
  {
   "cell_type": "code",
   "execution_count": null,
   "id": "95e7dd3f",
   "metadata": {},
   "outputs": [],
   "source": []
  }
 ],
 "metadata": {
  "kernelspec": {
   "display_name": "Python 3",
   "language": "python",
   "name": "python3"
  },
  "language_info": {
   "codemirror_mode": {
    "name": "ipython",
    "version": 3
   },
   "file_extension": ".py",
   "mimetype": "text/x-python",
   "name": "python",
   "nbconvert_exporter": "python",
   "pygments_lexer": "ipython3",
   "version": "3.8.8"
  }
 },
 "nbformat": 4,
 "nbformat_minor": 5
}
