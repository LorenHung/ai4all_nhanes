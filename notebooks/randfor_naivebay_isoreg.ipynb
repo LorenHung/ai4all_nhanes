{
 "cells": [
  {
   "cell_type": "code",
   "execution_count": 1,
   "id": "ffed0a8e",
   "metadata": {},
   "outputs": [],
   "source": [
    "#default\n",
    "import pandas as pd\n",
    "import numpy as np\n",
    "\n",
    "#pipeline for convenience\n",
    "from sklearn.pipeline import Pipeline\n",
    "\n",
    "#pre-formatting\n",
    "from sklearn.decomposition import PCA\n",
    "from sklearn.impute import SimpleImputer\n",
    "from sklearn.preprocessing import OneHotEncoder\n",
    "from sklearn.preprocessing import StandardScaler\n",
    "\n",
    "#models\n",
    "from sklearn.dummy import DummyClassifier\n",
    "\n",
    "#evaluating models\n",
    "from sklearn.metrics import roc_auc_score\n",
    "from sklearn.inspection import permutation_importance\n",
    "\n",
    "#evaluating features\n",
    "from sklearn.model_selection import RepeatedStratifiedKFold\n",
    "from sklearn.model_selection import GridSearchCV\n",
    "\n",
    "#ignore warnings\n",
    "import warnings\n",
    "warnings.filterwarnings(\"ignore\")"
   ]
  },
  {
   "cell_type": "code",
   "execution_count": 2,
   "id": "8080aa69",
   "metadata": {},
   "outputs": [
    {
     "name": "stdout",
     "output_type": "stream",
     "text": [
      "<class 'pandas.core.frame.DataFrame'>\n",
      "Float64Index: 29902 entries, 62161.0 to 93698.0\n",
      "Columns: 674 entries, SEQN to WHQ150\n",
      "dtypes: float64(672), object(2)\n",
      "memory usage: 154.0+ MB\n"
     ]
    }
   ],
   "source": [
    "all_data_df = pd.read_csv('all_data_df.csv')\n",
    "all_data_df.index = all_data_df['SEQN']\n",
    "all_data_df.info()"
   ]
  },
  {
   "cell_type": "markdown",
   "id": "c5923154",
   "metadata": {},
   "source": [
    "## Create Label"
   ]
  },
  {
   "cell_type": "code",
   "execution_count": 3,
   "id": "1ed190c5",
   "metadata": {},
   "outputs": [],
   "source": [
    "mental_health_df = all_data_df.loc[:, 'DPQ010':'DPQ100'].dropna(how='all')\n",
    "all_data_df = all_data_df.loc[mental_health_df.index]"
   ]
  },
  {
   "cell_type": "code",
   "execution_count": 4,
   "id": "6adf1984",
   "metadata": {},
   "outputs": [],
   "source": [
    "def mh(x):\n",
    "    if x == '\\.':\n",
    "        return 'missing'\n",
    "    elif x == 1:\n",
    "        return 'several days'\n",
    "    elif x == 2:\n",
    "        return 'more than half the days'\n",
    "    elif x == 3:\n",
    "        return 'nearly every day'\n",
    "    elif x == 7:\n",
    "        return 'refused'\n",
    "    elif x == 9:\n",
    "        return \"don't know\"\n",
    "    else:\n",
    "        return 'not at all'\n",
    "\n",
    "for col in mental_health_df.columns:\n",
    "    mental_health_df[col] = mental_health_df[col].apply(lambda x: mh(x))"
   ]
  },
  {
   "cell_type": "code",
   "execution_count": 5,
   "id": "672aea3f",
   "metadata": {},
   "outputs": [
    {
     "data": {
      "text/html": [
       "<div>\n",
       "<style scoped>\n",
       "    .dataframe tbody tr th:only-of-type {\n",
       "        vertical-align: middle;\n",
       "    }\n",
       "\n",
       "    .dataframe tbody tr th {\n",
       "        vertical-align: top;\n",
       "    }\n",
       "\n",
       "    .dataframe thead th {\n",
       "        text-align: right;\n",
       "    }\n",
       "</style>\n",
       "<table border=\"1\" class=\"dataframe\">\n",
       "  <thead>\n",
       "    <tr style=\"text-align: right;\">\n",
       "      <th></th>\n",
       "      <th>DPQ010</th>\n",
       "      <th>DPQ020</th>\n",
       "      <th>DPQ030</th>\n",
       "      <th>DPQ040</th>\n",
       "      <th>DPQ050</th>\n",
       "      <th>DPQ060</th>\n",
       "      <th>DPQ070</th>\n",
       "      <th>DPQ080</th>\n",
       "      <th>DPQ090</th>\n",
       "      <th>DPQ100</th>\n",
       "      <th>labels_raw</th>\n",
       "      <th>labels</th>\n",
       "    </tr>\n",
       "    <tr>\n",
       "      <th>SEQN</th>\n",
       "      <th></th>\n",
       "      <th></th>\n",
       "      <th></th>\n",
       "      <th></th>\n",
       "      <th></th>\n",
       "      <th></th>\n",
       "      <th></th>\n",
       "      <th></th>\n",
       "      <th></th>\n",
       "      <th></th>\n",
       "      <th></th>\n",
       "      <th></th>\n",
       "    </tr>\n",
       "  </thead>\n",
       "  <tbody>\n",
       "    <tr>\n",
       "      <th>62161.0</th>\n",
       "      <td>not at all</td>\n",
       "      <td>not at all</td>\n",
       "      <td>not at all</td>\n",
       "      <td>not at all</td>\n",
       "      <td>not at all</td>\n",
       "      <td>not at all</td>\n",
       "      <td>not at all</td>\n",
       "      <td>not at all</td>\n",
       "      <td>not at all</td>\n",
       "      <td>not at all</td>\n",
       "      <td>0</td>\n",
       "      <td>0</td>\n",
       "    </tr>\n",
       "    <tr>\n",
       "      <th>62169.0</th>\n",
       "      <td>several days</td>\n",
       "      <td>not at all</td>\n",
       "      <td>several days</td>\n",
       "      <td>several days</td>\n",
       "      <td>several days</td>\n",
       "      <td>more than half the days</td>\n",
       "      <td>not at all</td>\n",
       "      <td>several days</td>\n",
       "      <td>not at all</td>\n",
       "      <td>not at all</td>\n",
       "      <td>7</td>\n",
       "      <td>0</td>\n",
       "    </tr>\n",
       "    <tr>\n",
       "      <th>62172.0</th>\n",
       "      <td>several days</td>\n",
       "      <td>more than half the days</td>\n",
       "      <td>several days</td>\n",
       "      <td>several days</td>\n",
       "      <td>several days</td>\n",
       "      <td>not at all</td>\n",
       "      <td>not at all</td>\n",
       "      <td>not at all</td>\n",
       "      <td>not at all</td>\n",
       "      <td>several days</td>\n",
       "      <td>7</td>\n",
       "      <td>0</td>\n",
       "    </tr>\n",
       "    <tr>\n",
       "      <th>62174.0</th>\n",
       "      <td>not at all</td>\n",
       "      <td>not at all</td>\n",
       "      <td>not at all</td>\n",
       "      <td>not at all</td>\n",
       "      <td>not at all</td>\n",
       "      <td>not at all</td>\n",
       "      <td>not at all</td>\n",
       "      <td>not at all</td>\n",
       "      <td>not at all</td>\n",
       "      <td>not at all</td>\n",
       "      <td>0</td>\n",
       "      <td>0</td>\n",
       "    </tr>\n",
       "    <tr>\n",
       "      <th>62176.0</th>\n",
       "      <td>not at all</td>\n",
       "      <td>not at all</td>\n",
       "      <td>not at all</td>\n",
       "      <td>not at all</td>\n",
       "      <td>not at all</td>\n",
       "      <td>not at all</td>\n",
       "      <td>not at all</td>\n",
       "      <td>not at all</td>\n",
       "      <td>not at all</td>\n",
       "      <td>not at all</td>\n",
       "      <td>0</td>\n",
       "      <td>0</td>\n",
       "    </tr>\n",
       "  </tbody>\n",
       "</table>\n",
       "</div>"
      ],
      "text/plain": [
       "               DPQ010                   DPQ020        DPQ030        DPQ040  \\\n",
       "SEQN                                                                         \n",
       "62161.0    not at all               not at all    not at all    not at all   \n",
       "62169.0  several days               not at all  several days  several days   \n",
       "62172.0  several days  more than half the days  several days  several days   \n",
       "62174.0    not at all               not at all    not at all    not at all   \n",
       "62176.0    not at all               not at all    not at all    not at all   \n",
       "\n",
       "               DPQ050                   DPQ060      DPQ070        DPQ080  \\\n",
       "SEQN                                                                       \n",
       "62161.0    not at all               not at all  not at all    not at all   \n",
       "62169.0  several days  more than half the days  not at all  several days   \n",
       "62172.0  several days               not at all  not at all    not at all   \n",
       "62174.0    not at all               not at all  not at all    not at all   \n",
       "62176.0    not at all               not at all  not at all    not at all   \n",
       "\n",
       "             DPQ090        DPQ100  labels_raw  labels  \n",
       "SEQN                                                   \n",
       "62161.0  not at all    not at all           0       0  \n",
       "62169.0  not at all    not at all           7       0  \n",
       "62172.0  not at all  several days           7       0  \n",
       "62174.0  not at all    not at all           0       0  \n",
       "62176.0  not at all    not at all           0       0  "
      ]
     },
     "execution_count": 5,
     "metadata": {},
     "output_type": "execute_result"
    }
   ],
   "source": [
    "def calc(row):\n",
    "    sum = 0\n",
    "    for i in ['DPQ010', 'DPQ020', 'DPQ030', 'DPQ040', \n",
    "              'DPQ050', 'DPQ060', 'DPQ070','DPQ080', \n",
    "              'DPQ090', 'DPQ100']:\n",
    "        if row[i] == 'several days':\n",
    "            sum += 1\n",
    "        if row[i] == 'more than half the days':\n",
    "            sum += 2\n",
    "        if row[i] == 'nearly every day':\n",
    "            sum += 3\n",
    "    return sum\n",
    "\n",
    "mental_health_df['labels_raw'] = mental_health_df.apply(calc, axis=1)\n",
    "mental_health_df['labels'] = mental_health_df['labels_raw'].apply(lambda x: 1 if x >= 10 else 0)\n",
    "\n",
    "mental_health_df.head()"
   ]
  },
  {
   "cell_type": "markdown",
   "id": "a83ecf08",
   "metadata": {},
   "source": [
    "## Select Features"
   ]
  },
  {
   "cell_type": "code",
   "execution_count": 6,
   "id": "85620ee5",
   "metadata": {},
   "outputs": [],
   "source": [
    "features_ = [\n",
    "    #diabetes\n",
    "    'DID040','DIQ160','DIQ170','DIQ172','DIQ175A','DIQ175B','DIQ175C',\n",
    "    'DIQ175D','DIQ175E','DIQ175F','DIQ175G','DIQ175H','DIQ175I','DIQ175J','DIQ175K',\n",
    "    'DIQ175L', 'DIQ175M','DIQ175N','DIQ175O','DIQ175P','DIQ175Q','DIQ175R','DIQ175S',\n",
    "    'DIQ175T','DIQ175U','DIQ175V','DIQ175W','DIQ180','DIQ050','DID060','DIQ060U',\n",
    "    'DIQ070','DIQ230','DIQ240','DID250','DID260','DIQ260U','DIQ275','DIQ280','DIQ291',\n",
    "    'DIQ300S','DIQ300D','DID310S','DID310D','DID320','DID330','DID341','DID350',\n",
    "    'DIQ350U','DIQ360','DIQ080', \n",
    "    #sleep disorder\n",
    "    'SLQ050', \n",
    "    #physical activity\n",
    "    'PAQ605','PAQ610','PAD615','PAQ620','PAQ625','PAD630','PAQ635','PAQ640','PAD645',\n",
    "    'PAQ650','PAQ655','PAD660','PAQ665','PAQ670','PAD675','PAD680','PAQ706','PAQ710',\n",
    "    'PAQ715', \n",
    "    #weight history\n",
    "    'WHD010','WHD020','WHD050','WHQ060','WHD080A','WHD080B',\n",
    "    'WHD080C','WHD080D','WHD080E','WHD080F','WHD080G','WHD080H','WHD080I','WHD080J',\n",
    "    'WHD080K','WHD080M','WHD080N','WHD080O','WHD080P','WHD080Q','WHD080R','WHD080S',\n",
    "    'WHD080T','WHD080L','WHD110','WHD120','WHD130','WHD140','WHQ150', \n",
    "    #early childhood\n",
    "    'ECD010','ECQ020','ECD070A','ECD070B','ECQ080','ECQ090','WHQ030E','MCQ080E',\n",
    "    'ECQ150', \n",
    "    #alcohol issues\n",
    "    'ALQ101','ALQ110','ALQ120Q','ALQ120U','ALQ141Q','ALQ141U','ALQ151',\n",
    "    #early childhood\n",
    "    'ECD010','ECQ020','ECD070A','ECD070B','ECQ080','ECQ090','WHQ030E','MCQ080E','ECQ150', \n",
    "    #hospital access\n",
    "    'HUQ010','HUQ020','HUQ030','HUQ071','HUD080','HUQ090', \n",
    "    #health status\n",
    "    'HSD010','HSQ500','HSQ510','HSQ520','HSQ571','HSQ580','HSQ590','HSAQUEX',  \n",
    "    #income\n",
    "    'INQ012','INQ030','INQ060','INQ080','INQ090','INQ132','INQ150',\n",
    "    'IND235','INDFMMPI','INDFMMPC', \n",
    "    #housing\n",
    "    'HOD050','HOQ065', \n",
    "    #occupation\n",
    "    'OCD150','OCQ180','OCQ210','OCQ260','OCD270','OCQ380','OCD390G','OCD395', \n",
    "    #diet nutrition\n",
    "    'DBQ010','DBD030','DBD041','DBD050','DBD055','DBD061','DBQ073A','DBQ073B','DBQ073C',\n",
    "    'DBQ073D','DBQ073E','DBQ073U','DBQ700','DBQ197','DBQ223A','DBQ223B','DBQ223C',\n",
    "    'DBQ223D','DBQ223E','DBQ223U','DBQ229','DBQ235A','DBQ235B','DBQ235C','DBQ301',\n",
    "    'DBQ330','DBQ360','DBQ370','DBD381','DBQ390','DBQ400','DBD411','DBQ421','DBQ424',\n",
    "    'DBD895','DBD900','DBD905','DBD910', \n",
    "    #drug use\n",
    "    'DUQ200','DUQ210','DUQ211','DUQ213','DUQ215Q','DUQ215U','DUQ217','DUQ219','DUQ220Q',\n",
    "    'DUQ220U','DUQ230','DUQ240','DUQ250','DUQ260','DUQ270Q','DUQ270U','DUQ272','DUQ280',\n",
    "    'DUQ290','DUQ300','DUQ310Q','DUQ310U','DUQ320','DUQ330','DUQ340','DUQ350Q','DUQ350U',\n",
    "    'DUQ352','DUQ360','DUQ370','DUQ380A','DUQ380B','DUQ380C','DUQ380D','DUQ380E',\n",
    "    'DUQ390','DUQ400Q','DUQ400U','DUQ410','DUQ420', \n",
    "    \n",
    "]\n",
    "\n",
    "features = []\n",
    "\n",
    "for feature in features_:\n",
    "    if feature not in features and feature != 'SEQN':\n",
    "        features.append(feature)"
   ]
  },
  {
   "cell_type": "markdown",
   "id": "ffffb6a7",
   "metadata": {},
   "source": [
    "## Split Data"
   ]
  },
  {
   "cell_type": "code",
   "execution_count": 7,
   "id": "d2a1e83b",
   "metadata": {},
   "outputs": [],
   "source": [
    "from sklearn.model_selection import train_test_split"
   ]
  },
  {
   "cell_type": "code",
   "execution_count": 8,
   "id": "56323624",
   "metadata": {},
   "outputs": [
    {
     "name": "stdout",
     "output_type": "stream",
     "text": [
      "(15513, 228)\n"
     ]
    },
    {
     "data": {
      "text/plain": [
       "(15513,)"
      ]
     },
     "execution_count": 8,
     "metadata": {},
     "output_type": "execute_result"
    }
   ],
   "source": [
    "X = all_data_df[features]\n",
    "y = mental_health_df['labels']\n",
    "print(X.shape)\n",
    "y.shape"
   ]
  },
  {
   "cell_type": "code",
   "execution_count": 9,
   "id": "c5f64b65",
   "metadata": {},
   "outputs": [],
   "source": [
    "# train: 80%\n",
    "# test: 10%\n",
    "# val: 10%\n",
    "X_train, X_test, y_train, y_test = train_test_split(X, y, test_size=0.2, random_state=55)\n",
    "X_val, X_test, y_val, y_test = train_test_split(X_test, y_test, test_size=0.5, random_state=55)"
   ]
  },
  {
   "cell_type": "markdown",
   "id": "5b9617ab",
   "metadata": {},
   "source": [
    "## Dummy Classifier"
   ]
  },
  {
   "cell_type": "code",
   "execution_count": 10,
   "id": "ca1103f5",
   "metadata": {},
   "outputs": [
    {
     "data": {
      "text/plain": [
       "Pipeline(steps=[('imputer', SimpleImputer(strategy='most_frequent')),\n",
       "                ('enc', OneHotEncoder(handle_unknown='ignore', sparse=False)),\n",
       "                ('red', PCA(n_components=10)),\n",
       "                ('clf',\n",
       "                 DummyClassifier(random_state=55, strategy='stratified'))])"
      ]
     },
     "execution_count": 10,
     "metadata": {},
     "output_type": "execute_result"
    }
   ],
   "source": [
    "dummy_pipe = Pipeline([\n",
    "    ('imputer', SimpleImputer(strategy='most_frequent')),\n",
    "    ('enc', OneHotEncoder(sparse=False, handle_unknown='ignore')), \n",
    "    ('red', PCA(n_components=10)),\n",
    "    ('clf', DummyClassifier(strategy='stratified', random_state=55))\n",
    "])\n",
    "dummy_pipe.fit(X_train, y_train)"
   ]
  },
  {
   "cell_type": "code",
   "execution_count": 11,
   "id": "7d532634",
   "metadata": {},
   "outputs": [
    {
     "name": "stdout",
     "output_type": "stream",
     "text": [
      "0.5032121476581153\n"
     ]
    },
    {
     "data": {
      "text/plain": [
       "0.5105304456999372"
      ]
     },
     "execution_count": 11,
     "metadata": {},
     "output_type": "execute_result"
    }
   ],
   "source": [
    "dummy_training_score = roc_auc_score(y_train.values, dummy_pipe.predict_proba(X_train)[:, 1])\n",
    "dummy_validation_score = roc_auc_score(y_val.values, dummy_pipe.predict_proba(X_val)[:, 1])\n",
    "print(dummy_training_score)\n",
    "dummy_validation_score"
   ]
  },
  {
   "cell_type": "markdown",
   "id": "d96f8d13",
   "metadata": {},
   "source": [
    "## Random Forest"
   ]
  },
  {
   "cell_type": "code",
   "execution_count": 12,
   "id": "336bc3e7",
   "metadata": {},
   "outputs": [],
   "source": [
    "from sklearn.ensemble import RandomForestClassifier\n",
    "from sklearn.datasets import make_classification"
   ]
  },
  {
   "cell_type": "code",
   "execution_count": 13,
   "id": "09b2c115",
   "metadata": {},
   "outputs": [
    {
     "data": {
      "text/plain": [
       "Pipeline(steps=[('imputer', SimpleImputer(strategy='most_frequent')),\n",
       "                ('enc', OneHotEncoder(handle_unknown='ignore', sparse=False)),\n",
       "                ('red', PCA(n_components=10)),\n",
       "                ('clf', RandomForestClassifier())])"
      ]
     },
     "execution_count": 13,
     "metadata": {},
     "output_type": "execute_result"
    }
   ],
   "source": [
    "rand_for_pipe = Pipeline([\n",
    "    ('imputer', SimpleImputer(strategy='most_frequent')),\n",
    "    ('enc', OneHotEncoder(sparse=False, handle_unknown='ignore')), \n",
    "    ('red', PCA(n_components=10)),\n",
    "    ('clf', RandomForestClassifier())\n",
    "])\n",
    "rand_for_pipe.fit(X_train, y_train)"
   ]
  },
  {
   "cell_type": "code",
   "execution_count": 14,
   "id": "00e4b227",
   "metadata": {
    "scrolled": true
   },
   "outputs": [
    {
     "name": "stdout",
     "output_type": "stream",
     "text": [
      "1.0\n"
     ]
    },
    {
     "data": {
      "text/plain": [
       "0.7455482318476667"
      ]
     },
     "execution_count": 14,
     "metadata": {},
     "output_type": "execute_result"
    }
   ],
   "source": [
    "randfor_training_score = roc_auc_score(y_train.values, rand_for_pipe.predict_proba(X_train)[:, 1])\n",
    "randfor_validation_score = roc_auc_score(y_val.values, rand_for_pipe.predict_proba(X_val)[:, 1])\n",
    "print(randfor_training_score)\n",
    "randfor_validation_score"
   ]
  },
  {
   "cell_type": "markdown",
   "id": "2536a313",
   "metadata": {},
   "source": [
    "### Hyperparameter Tuning"
   ]
  },
  {
   "cell_type": "code",
   "execution_count": null,
   "id": "caf6ec56",
   "metadata": {},
   "outputs": [],
   "source": [
    "rand_for_pipe.get_params().keys()"
   ]
  },
  {
   "cell_type": "code",
   "execution_count": null,
   "id": "1f72b232",
   "metadata": {},
   "outputs": [],
   "source": [
    "grid_params = {\n",
    "  'clf__max_depth': [2, 3],  \n",
    "  'clf__n_estimators': [10, 100, 1000],  \n",
    "}\n",
    "\n",
    "cv = RepeatedStratifiedKFold(n_splits=3, n_repeats=2, random_state=42)\n",
    "grid_search = GridSearchCV(\n",
    "    estimator=rand_for_pipe, \n",
    "    param_grid=grid_params, \n",
    "    n_jobs=-1, \n",
    "    cv=cv, \n",
    "    scoring='roc_auc',\n",
    "    error_score=0\n",
    ")\n",
    "grid_result = grid_search.fit(X_train, y_train)"
   ]
  },
  {
   "cell_type": "code",
   "execution_count": null,
   "id": "359dbdda",
   "metadata": {},
   "outputs": [],
   "source": [
    "print(grid_result.best_score_)\n",
    "grid_result.best_params_"
   ]
  },
  {
   "cell_type": "markdown",
   "id": "1e88814a",
   "metadata": {},
   "source": [
    "### Test the Hyperparameters"
   ]
  },
  {
   "cell_type": "code",
   "execution_count": null,
   "id": "83e55e11",
   "metadata": {},
   "outputs": [],
   "source": [
    "rand_for_pipe = Pipeline([\n",
    "    ('imputer', SimpleImputer(strategy='most_frequent')),\n",
    "    ('enc', OneHotEncoder(sparse=False, handle_unknown='ignore')), \n",
    "    ('red', PCA(n_components=10)),\n",
    "    ('clf', RandomForestClassifier(max_depth=3, n_estimators=1000))\n",
    "])\n",
    "rand_for_pipe.fit(X_train, y_train)"
   ]
  },
  {
   "cell_type": "code",
   "execution_count": null,
   "id": "0caaf897",
   "metadata": {},
   "outputs": [],
   "source": [
    "randfor_training_score = roc_auc_score(y_train.values, rand_for_pipe.predict_proba(X_train)[:, 1])\n",
    "randfor_validation_score = roc_auc_score(y_val.values, rand_for_pipe.predict_proba(X_val)[:, 1])\n",
    "print(randfor_training_score)\n",
    "randfor_validation_score"
   ]
  },
  {
   "cell_type": "markdown",
   "id": "633d46ff",
   "metadata": {},
   "source": [
    "### Repeat"
   ]
  },
  {
   "cell_type": "code",
   "execution_count": null,
   "id": "ecc8ff1e",
   "metadata": {},
   "outputs": [],
   "source": [
    "grid_params = {\n",
    "  'clf__max_depth': [4, 5],  \n",
    "  'clf__n_estimators': [10, 100, 1000],  \n",
    "}\n",
    "\n",
    "cv = RepeatedStratifiedKFold(n_splits=3, n_repeats=2, random_state=42)\n",
    "grid_search = GridSearchCV(\n",
    "    estimator=rand_for_pipe, \n",
    "    param_grid=grid_params, \n",
    "    n_jobs=-1, \n",
    "    cv=cv, \n",
    "    scoring='roc_auc',\n",
    "    error_score=0\n",
    ")\n",
    "grid_result = grid_search.fit(X_train, y_train)"
   ]
  },
  {
   "cell_type": "code",
   "execution_count": null,
   "id": "518e852b",
   "metadata": {},
   "outputs": [],
   "source": [
    "print(grid_result.best_score_)\n",
    "grid_result.best_params_"
   ]
  },
  {
   "cell_type": "code",
   "execution_count": 15,
   "id": "48cef9f7",
   "metadata": {},
   "outputs": [
    {
     "name": "stdout",
     "output_type": "stream",
     "text": [
      "0.835330369476281\n"
     ]
    },
    {
     "data": {
      "text/plain": [
       "0.7526679221594476"
      ]
     },
     "execution_count": 15,
     "metadata": {},
     "output_type": "execute_result"
    }
   ],
   "source": [
    "rand_for_pipe = Pipeline([\n",
    "    ('imputer', SimpleImputer(strategy='most_frequent')),\n",
    "    ('enc', OneHotEncoder(sparse=False, handle_unknown='ignore')), \n",
    "    ('red', PCA(n_components=10)),\n",
    "    ('clf', RandomForestClassifier(max_depth=5, n_estimators=1000))\n",
    "])\n",
    "rand_for_pipe.fit(X_train, y_train)\n",
    "\n",
    "randfor_training_score = roc_auc_score(y_train.values, rand_for_pipe.predict_proba(X_train)[:, 1])\n",
    "randfor_validation_score = roc_auc_score(y_val.values, rand_for_pipe.predict_proba(X_val)[:, 1])\n",
    "print(randfor_training_score)\n",
    "randfor_validation_score"
   ]
  },
  {
   "cell_type": "markdown",
   "id": "e127c878",
   "metadata": {},
   "source": [
    "### And Repeat"
   ]
  },
  {
   "cell_type": "code",
   "execution_count": null,
   "id": "57b4295a",
   "metadata": {},
   "outputs": [],
   "source": [
    "grid_params = {\n",
    "  'clf__max_depth': [9, 10],  \n",
    "  'clf__n_estimators': [100, 1000],  \n",
    "}\n",
    "\n",
    "cv = RepeatedStratifiedKFold(n_splits=3, n_repeats=2, random_state=42)\n",
    "grid_search = GridSearchCV(\n",
    "    estimator=rand_for_pipe, \n",
    "    param_grid=grid_params, \n",
    "    n_jobs=-1, \n",
    "    cv=cv, \n",
    "    scoring='roc_auc',\n",
    "    error_score=0\n",
    ")\n",
    "grid_result = grid_search.fit(X_train, y_train)\n",
    "print(grid_result.best_score_)\n",
    "grid_result.best_params_"
   ]
  },
  {
   "cell_type": "code",
   "execution_count": null,
   "id": "f10eaa7d",
   "metadata": {},
   "outputs": [],
   "source": [
    "grid_params = {\n",
    "  'clf__max_depth': [6, 7, 8, 9],  \n",
    "  'clf__n_estimators': [1000],  \n",
    "}\n",
    "\n",
    "cv = RepeatedStratifiedKFold(n_splits=3, n_repeats=2, random_state=42)\n",
    "grid_search = GridSearchCV(\n",
    "    estimator=rand_for_pipe, \n",
    "    param_grid=grid_params, \n",
    "    n_jobs=-1, \n",
    "    cv=cv, \n",
    "    scoring='roc_auc',\n",
    "    error_score=0\n",
    ")\n",
    "grid_result = grid_search.fit(X_train, y_train)\n",
    "print(grid_result.best_score_)\n",
    "grid_result.best_params_"
   ]
  },
  {
   "cell_type": "code",
   "execution_count": null,
   "id": "3aa21171",
   "metadata": {},
   "outputs": [],
   "source": [
    "grid_params = {\n",
    "  'clf__max_depth': [5, 7],  \n",
    "  'clf__n_estimators': [1000],  \n",
    "}\n",
    "\n",
    "cv = RepeatedStratifiedKFold(n_splits=3, n_repeats=2, random_state=42)\n",
    "grid_search = GridSearchCV(\n",
    "    estimator=rand_for_pipe, \n",
    "    param_grid=grid_params, \n",
    "    n_jobs=-1, \n",
    "    cv=cv, \n",
    "    scoring='roc_auc',\n",
    "    error_score=0\n",
    ")\n",
    "grid_result = grid_search.fit(X_train, y_train)\n",
    "print(grid_result.best_score_)\n",
    "grid_result.best_params_"
   ]
  },
  {
   "cell_type": "code",
   "execution_count": 16,
   "id": "63428496",
   "metadata": {},
   "outputs": [
    {
     "name": "stdout",
     "output_type": "stream",
     "text": [
      "0.8905683864319413\n"
     ]
    },
    {
     "data": {
      "text/plain": [
       "0.7601276417660597"
      ]
     },
     "execution_count": 16,
     "metadata": {},
     "output_type": "execute_result"
    }
   ],
   "source": [
    "rand_for_pipe = Pipeline([\n",
    "    ('imputer', SimpleImputer(strategy='most_frequent')),\n",
    "    ('enc', OneHotEncoder(sparse=False, handle_unknown='ignore')), \n",
    "    ('red', PCA(n_components=10)),\n",
    "    ('clf', RandomForestClassifier(max_depth=7, n_estimators=1000))\n",
    "])\n",
    "rand_for_pipe.fit(X_train, y_train)\n",
    "\n",
    "randfor_training_score = roc_auc_score(y_train.values, rand_for_pipe.predict_proba(X_train)[:, 1])\n",
    "randfor_validation_score = roc_auc_score(y_val.values, rand_for_pipe.predict_proba(X_val)[:, 1])\n",
    "print(randfor_training_score)\n",
    "randfor_validation_score"
   ]
  },
  {
   "cell_type": "markdown",
   "id": "6ea189f4",
   "metadata": {},
   "source": [
    "## Naive Bayes"
   ]
  },
  {
   "cell_type": "code",
   "execution_count": null,
   "id": "7c40a7b1",
   "metadata": {},
   "outputs": [],
   "source": [
    "from sklearn.naive_bayes import GaussianNB"
   ]
  },
  {
   "cell_type": "code",
   "execution_count": null,
   "id": "62a48dd0",
   "metadata": {},
   "outputs": [],
   "source": [
    "naive_bay_pipe = Pipeline([\n",
    "    ('imputer', SimpleImputer(strategy='most_frequent')),\n",
    "    ('enc', OneHotEncoder(sparse=False, handle_unknown='ignore')), \n",
    "    ('red', PCA(n_components=10)),\n",
    "    ('clf', GaussianNB())\n",
    "])\n",
    "naive_bay_pipe.fit(X_train, y_train)"
   ]
  },
  {
   "cell_type": "code",
   "execution_count": null,
   "id": "fd070c10",
   "metadata": {},
   "outputs": [],
   "source": [
    "naivebay_training_score = roc_auc_score(y_train.values, naive_bay_pipe.predict_proba(X_train)[:, 1])\n",
    "naivebay_validation_score = roc_auc_score(y_val.values, naive_bay_pipe.predict_proba(X_val)[:, 1])\n",
    "print(naivebay_training_score)\n",
    "naivebay_validation_score"
   ]
  },
  {
   "cell_type": "markdown",
   "id": "f206ea1a",
   "metadata": {},
   "source": [
    "### Hyperparameter Tuning"
   ]
  },
  {
   "cell_type": "code",
   "execution_count": null,
   "id": "341c889c",
   "metadata": {},
   "outputs": [],
   "source": [
    "naive_bay_pipe.get_params().keys()"
   ]
  },
  {
   "cell_type": "code",
   "execution_count": null,
   "id": "104cdf3e",
   "metadata": {},
   "outputs": [],
   "source": [
    "# not in use\n",
    "grid_params = {\n",
    "    'uhh...'\n",
    "    # I don't quite understand the doc, but I don't think it needs hyperparameter tuning...\n",
    "    # ...maybe?\n",
    "}\n",
    "\n",
    "cv = RepeatedStratifiedKFold(n_splits=3, n_repeats=2, random_state=42)\n",
    "grid_search = GridSearchCV(\n",
    "    estimator=naive_bay_pipe, \n",
    "    param_grid=grid_params, \n",
    "    n_jobs=-1, \n",
    "    cv=cv, \n",
    "    scoring='roc_auc',\n",
    "    error_score=0\n",
    ")\n",
    "grid_result = grid_search.fit(X_train, y_train)"
   ]
  },
  {
   "cell_type": "code",
   "execution_count": null,
   "id": "11c91cc9",
   "metadata": {},
   "outputs": [],
   "source": [
    "# not in use\n",
    "print(grid_result.best_score_)\n",
    "grid_result.best_params_"
   ]
  },
  {
   "cell_type": "markdown",
   "id": "386f2738",
   "metadata": {},
   "source": [
    "## ~~Isotonic Regression~~ Our broken hopes and dreams"
   ]
  },
  {
   "cell_type": "code",
   "execution_count": null,
   "id": "da9d508c",
   "metadata": {},
   "outputs": [],
   "source": [
    "# not in use\n",
    "from sklearn.isotonic import IsotonicRegression\n",
    "from sklearn.datasets import make_regression"
   ]
  },
  {
   "cell_type": "code",
   "execution_count": null,
   "id": "04e82b9c",
   "metadata": {},
   "outputs": [],
   "source": [
    "# not in use\n",
    "iso_reg_pipe = Pipeline([\n",
    "    ('imputer', SimpleImputer(strategy='most_frequent')),\n",
    "    ('enc', OneHotEncoder(sparse=False, handle_unknown='ignore')), \n",
    "    ('red', PCA(n_components=10)),\n",
    "    ('clf', IsotonicRegression())\n",
    "])\n",
    "iso_reg_pipe.fit(X_train, y_train)"
   ]
  },
  {
   "cell_type": "code",
   "execution_count": null,
   "id": "708747f0",
   "metadata": {},
   "outputs": [],
   "source": [
    "# not in use\n",
    "isoreg_training_score = roc_auc_score(y_train.values, iso_reg_pipe.predict_proba(X_train)[:, 1])\n",
    "isoreg_validation_score = roc_auc_score(y_val.values, iso_reg_pipe.predict_proba(X_val)[:, 1])\n",
    "print(isoreg_training_score)\n",
    "isoreg_validation_score"
   ]
  },
  {
   "cell_type": "markdown",
   "id": "8a4f72d7",
   "metadata": {},
   "source": [
    "## Reference Links"
   ]
  },
  {
   "cell_type": "markdown",
   "id": "0195a918",
   "metadata": {},
   "source": [
    "Ignore warnings - https://stackoverflow.com/questions/14463277/how-to-disable-python-warnings \\\n",
    "What is PCA - https://www.upgrad.com/blog/pca-in-machine-learning/ \\\n",
    "Random Forest doc - https://scikit-learn.org/stable/modules/generated/sklearn.ensemble.RandomForestClassifier.html \\\n",
    "Naive Bayes doc - https://scikit-learn.org/stable/modules/naive_bayes.html \\\n",
    "Gaussian Naive Bayes doc - https://scikit-learn.org/stable/modules/generated/sklearn.naive_bayes.GaussianNB.html \\\n",
    "Isotonic Regression doc - https://scikit-learn.org/stable/modules/generated/sklearn.isotonic.IsotonicRegression.html \\\n",
    "Isotonic Regression info - https://scikit-learn.org/stable/modules/isotonic.html#isotonic \\\n",
    "Why we can't use isoreg - **data dimensions are unsuitable**"
   ]
  }
 ],
 "metadata": {
  "kernelspec": {
   "display_name": "Python 3 (ipykernel)",
   "language": "python",
   "name": "python3"
  },
  "language_info": {
   "codemirror_mode": {
    "name": "ipython",
    "version": 3
   },
   "file_extension": ".py",
   "mimetype": "text/x-python",
   "name": "python",
   "nbconvert_exporter": "python",
   "pygments_lexer": "ipython3",
   "version": "3.8.8"
  }
 },
 "nbformat": 4,
 "nbformat_minor": 5
}
