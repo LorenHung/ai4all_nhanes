{
 "cells": [
  {
   "cell_type": "code",
   "execution_count": 3,
   "id": "aca8b6d0-3e57-4977-a164-334293d56367",
   "metadata": {},
   "outputs": [],
   "source": [
    "import pandas as pd\n",
    "import numpy as np\n",
    "\n",
    "from  sklearn.model_selection import train_test_split\n",
    "\n",
    "from sklearn.pipeline import Pipeline\n",
    "\n",
    "from sklearn.decomposition import PCA\n",
    "from sklearn.impute import SimpleImputer\n",
    "from sklearn.preprocessing import OneHotEncoder\n",
    "from sklearn.preprocessing import StandardScaler\n",
    "\n",
    "from sklearn.svm import SVC\n",
    "from sklearn.linear_model import LogisticRegression\n",
    "from sklearn.discriminant_analysis import LinearDiscriminantAnalysis\n",
    "from sklearn.dummy import DummyClassifier\n",
    "from sklearn.tree import DecisionTreeClassifier\n",
    "from sklearn.ensemble import GradientBoostingClassifier\n",
    "from sklearn.ensemble import RandomForestClassifier\n",
    "from sklearn.naive_bayes import GaussianNB\n",
    "from sklearn.discriminant_analysis import QuadraticDiscriminantAnalysis\n",
    "\n",
    "from sklearn.metrics import roc_auc_score\n",
    "from sklearn.inspection import permutation_importance\n",
    "\n",
    "from sklearn.model_selection import RepeatedStratifiedKFold\n",
    "from sklearn.model_selection import GridSearchCV"
   ]
  },
  {
   "cell_type": "code",
   "execution_count": 4,
   "id": "e3266aac-4bcd-40e1-b706-9d8b1268fbef",
   "metadata": {},
   "outputs": [
    {
     "name": "stdout",
     "output_type": "stream",
     "text": [
      "<class 'pandas.core.frame.DataFrame'>\n",
      "Float64Index: 29902 entries, 62161.0 to 93698.0\n",
      "Columns: 674 entries, SEQN to WHQ150\n",
      "dtypes: float64(672), object(2)\n",
      "memory usage: 154.0+ MB\n"
     ]
    },
    {
     "name": "stderr",
     "output_type": "stream",
     "text": [
      "C:\\Users\\udona\\anaconda3\\lib\\site-packages\\IPython\\core\\interactiveshell.py:3165: DtypeWarning: Columns (600,601) have mixed types.Specify dtype option on import or set low_memory=False.\n",
      "  has_raised = await self.run_ast_nodes(code_ast.body, cell_name,\n"
     ]
    }
   ],
   "source": [
    "all_data_df = pd.read_csv('https://raw.githubusercontent.com/albemlee/ai4all_nhanes/main/notebooks/all_data_df.csv')\n",
    "all_data_df.index = all_data_df['SEQN']\n",
    "all_data_df.info()"
   ]
  },
  {
   "cell_type": "markdown",
   "id": "f2b8fdf3-d6ef-4929-bf89-db5ef887b113",
   "metadata": {},
   "source": [
    "# Create Label"
   ]
  },
  {
   "cell_type": "code",
   "execution_count": 5,
   "id": "49e6a60f-069f-4f25-bc9c-0de4a07b6ab9",
   "metadata": {},
   "outputs": [],
   "source": [
    "# Select mental health screener columns and drop data that are empty\n",
    "mental_health_df = all_data_df.loc[:, 'DPQ010':'DPQ100'].dropna(how='all')\n",
    "all_data_df = all_data_df.loc[mental_health_df.index]"
   ]
  },
  {
   "cell_type": "code",
   "execution_count": 6,
   "id": "e65f76f3-e741-402f-b689-eda66f9f1a15",
   "metadata": {},
   "outputs": [
    {
     "name": "stdout",
     "output_type": "stream",
     "text": [
      "<class 'pandas.core.frame.DataFrame'>\n",
      "Float64Index: 15513 entries, 62161.0 to 93702.0\n",
      "Data columns (total 10 columns):\n",
      " #   Column  Non-Null Count  Dtype \n",
      "---  ------  --------------  ----- \n",
      " 0   DPQ010  15513 non-null  object\n",
      " 1   DPQ020  15513 non-null  object\n",
      " 2   DPQ030  15513 non-null  object\n",
      " 3   DPQ040  15513 non-null  object\n",
      " 4   DPQ050  15513 non-null  object\n",
      " 5   DPQ060  15513 non-null  object\n",
      " 6   DPQ070  15513 non-null  object\n",
      " 7   DPQ080  15513 non-null  object\n",
      " 8   DPQ090  15513 non-null  object\n",
      " 9   DPQ100  15513 non-null  object\n",
      "dtypes: object(10)\n",
      "memory usage: 1.3+ MB\n"
     ]
    }
   ],
   "source": [
    "def mh(x):\n",
    "    if x == '\\.':\n",
    "        return 'missing'\n",
    "    elif x == 1:\n",
    "        return 'several days'\n",
    "    elif x == 2:\n",
    "        return 'more than half the days'\n",
    "    elif x == 3:\n",
    "        return 'nearly every day'\n",
    "    elif x == 7:\n",
    "        return 'refused'\n",
    "    elif x == 9:\n",
    "        return \"don't know\"\n",
    "    else:\n",
    "        return 'not at all'\n",
    "\n",
    "for col in mental_health_df.columns:\n",
    "    mental_health_df[col] = mental_health_df[col].apply(lambda x: mh(x))\n",
    "\n",
    "mental_health_df.info()"
   ]
  },
  {
   "cell_type": "code",
   "execution_count": 7,
   "id": "63a8d265-8226-49df-a4d6-bdc45b26dec6",
   "metadata": {
    "tags": []
   },
   "outputs": [],
   "source": [
    "def calc(row):\n",
    "    sum = 0\n",
    "    for i in ['DPQ010', 'DPQ020', 'DPQ030', 'DPQ040', \n",
    "              'DPQ050', 'DPQ060', 'DPQ070','DPQ080', \n",
    "              'DPQ090', 'DPQ100']:\n",
    "        if row[i] == 'several days':\n",
    "            sum += 1\n",
    "        if row[i] == 'more than half the days':\n",
    "            sum += 2\n",
    "        if row[i] == 'nearly every day':\n",
    "            sum += 3\n",
    "    return sum"
   ]
  },
  {
   "cell_type": "code",
   "execution_count": 8,
   "id": "eaba53ba-3a20-490a-a8b8-c58a29773b75",
   "metadata": {},
   "outputs": [],
   "source": [
    "# Use 10 as threshold for depression\n",
    "mental_health_df['labels_raw'] = mental_health_df.apply(calc, axis=1)\n",
    "mental_health_df['labels'] = mental_health_df['labels_raw'].apply(lambda x: 1 if x >= 10 else 0)"
   ]
  },
  {
   "cell_type": "markdown",
   "id": "0200e040-decf-4df4-9278-887191c8c765",
   "metadata": {},
   "source": [
    "# Select Features"
   ]
  },
  {
   "cell_type": "code",
   "execution_count": 9,
   "id": "812fedf2-f062-40a2-a299-f69767ae9e95",
   "metadata": {},
   "outputs": [
    {
     "name": "stdout",
     "output_type": "stream",
     "text": [
      "32\n"
     ]
    }
   ],
   "source": [
    "features = [\n",
    "    #sleep disorder\n",
    "    'SEQN','SLQ050', \n",
    "    #early childhood\n",
    "    'ECD010','ECQ020','ECD070A','ECD070B','ECQ080','ECQ090','WHQ030E','MCQ080E',\n",
    "    'ECQ150', \n",
    "    #alcohol issues\n",
    "    'ALQ101','ALQ110','ALQ120Q','ALQ120U','ALQ130','ALQ141Q','ALQ141U','ALQ151',\n",
    "    #health status\n",
    "    'HSD010','HSQ500','HSQ510','HSQ520','HSQ571','HSQ580','HSQ590','HSAQUEX',\n",
    "    #hospital access\n",
    "    'HUQ010','HUQ020','HUQ030','HUQ071','HUD080','HUQ090', \n",
    " \n",
    "]\n",
    "\n",
    "final_features = []\n",
    "\n",
    "for feature in features:\n",
    "    if feature not in final_features and feature != 'SEQN':\n",
    "        final_features.append(feature)\n",
    "        \n",
    "print (len(final_features))"
   ]
  },
  {
   "cell_type": "markdown",
   "id": "315ce0fc-613d-4107-a471-aa83f17287e5",
   "metadata": {},
   "source": [
    "# Split Data"
   ]
  },
  {
   "cell_type": "markdown",
   "id": "ea555645-dc80-422c-be6c-466fed3abe6d",
   "metadata": {},
   "source": [
    "https://scikit-learn.org/stable/modules/generated/sklearn.model_selection.train_test_split.html"
   ]
  },
  {
   "cell_type": "code",
   "execution_count": 10,
   "id": "c12a5aef-b652-44e5-8cbe-d5ffaf502263",
   "metadata": {},
   "outputs": [],
   "source": [
    "X = all_data_df[final_features]\n",
    "y = mental_health_df['labels']"
   ]
  },
  {
   "cell_type": "code",
   "execution_count": 11,
   "id": "929b38eb-da1e-4d0b-ba61-e4160a4ba91d",
   "metadata": {},
   "outputs": [],
   "source": [
    "X_train, X_test, y_train, y_test = train_test_split(X, y, test_size=0.2, random_state=42)\n",
    "X_val, X_test, y_val, y_test = train_test_split(X_test, y_test, test_size=0.5, random_state=42)"
   ]
  },
  {
   "cell_type": "markdown",
   "id": "29ccfe6c-e2c1-4cf6-8352-866d8b36bace",
   "metadata": {},
   "source": [
    "# Train Model"
   ]
  },
  {
   "cell_type": "markdown",
   "id": "0b26acaa-3dd8-4074-898d-7196c5ee252f",
   "metadata": {},
   "source": [
    "https://scikit-learn.org/stable/modules/generated/sklearn.pipeline.Pipeline.html"
   ]
  },
  {
   "cell_type": "markdown",
   "id": "13031308",
   "metadata": {},
   "source": [
    "Gradient Boosting Classifier"
   ]
  },
  {
   "cell_type": "code",
   "execution_count": 12,
   "id": "d454f28a",
   "metadata": {},
   "outputs": [
    {
     "data": {
      "text/plain": [
       "Pipeline(steps=[('imputer', SimpleImputer(strategy='most_frequent')),\n",
       "                ('enc', OneHotEncoder(handle_unknown='ignore', sparse=False)),\n",
       "                ('red', PCA(n_components=10)),\n",
       "                ('clf',\n",
       "                 GradientBoostingClassifier(learning_rate=1.0, max_depth=1,\n",
       "                                            random_state=42))])"
      ]
     },
     "execution_count": 12,
     "metadata": {},
     "output_type": "execute_result"
    }
   ],
   "source": [
    "gdclass_pipe = Pipeline([\n",
    "    ('imputer', SimpleImputer(strategy='most_frequent')),\n",
    "    ('enc', OneHotEncoder(sparse=False, handle_unknown='ignore')), \n",
    "    ('red', PCA(n_components=10)),\n",
    "    ('clf', GradientBoostingClassifier(n_estimators=100, learning_rate=1.0,\n",
    "                                       max_depth=1, random_state=42))\n",
    "])\n",
    "gdclass_pipe.fit(X_train, y_train)"
   ]
  },
  {
   "cell_type": "markdown",
   "id": "ebf50ec5-c191-4549-bc1e-6b068f468024",
   "metadata": {},
   "source": [
    "# Model Evaluation"
   ]
  },
  {
   "cell_type": "code",
   "execution_count": 13,
   "id": "1b554495-2556-4de4-aa30-4d0486be4955",
   "metadata": {},
   "outputs": [],
   "source": [
    "gdclass_training_score = roc_auc_score(y_train.values, gdclass_pipe.predict_proba(X_train)[:,1])\n",
    "gdclass_validation_score = roc_auc_score(y_val.values, gdclass_pipe.predict_proba(X_val)[:,1])"
   ]
  },
  {
   "cell_type": "code",
   "execution_count": 14,
   "id": "47ba47c1-c365-4df3-8ebe-19dcaabe5f93",
   "metadata": {},
   "outputs": [
    {
     "data": {
      "text/html": [
       "<div>\n",
       "<style scoped>\n",
       "    .dataframe tbody tr th:only-of-type {\n",
       "        vertical-align: middle;\n",
       "    }\n",
       "\n",
       "    .dataframe tbody tr th {\n",
       "        vertical-align: top;\n",
       "    }\n",
       "\n",
       "    .dataframe thead th {\n",
       "        text-align: right;\n",
       "    }\n",
       "</style>\n",
       "<table border=\"1\" class=\"dataframe\">\n",
       "  <thead>\n",
       "    <tr style=\"text-align: right;\">\n",
       "      <th></th>\n",
       "      <th>training score</th>\n",
       "      <th>validation score</th>\n",
       "    </tr>\n",
       "  </thead>\n",
       "  <tbody>\n",
       "    <tr>\n",
       "      <th>gradient boosting classifier</th>\n",
       "      <td>0.835242</td>\n",
       "      <td>0.810376</td>\n",
       "    </tr>\n",
       "  </tbody>\n",
       "</table>\n",
       "</div>"
      ],
      "text/plain": [
       "                              training score  validation score\n",
       "gradient boosting classifier        0.835242          0.810376"
      ]
     },
     "execution_count": 14,
     "metadata": {},
     "output_type": "execute_result"
    }
   ],
   "source": [
    "pd.DataFrame.from_dict(\n",
    "    {\n",
    "        'gradient boosting classifier': {\n",
    "            'training score': gdclass_training_score,\n",
    "            'validation score': gdclass_validation_score\n",
    "        }, \n",
    "    }, \n",
    "    orient='index')"
   ]
  },
  {
   "cell_type": "markdown",
   "id": "847b098e-2fc8-4567-b989-529233391605",
   "metadata": {},
   "source": [
    "# Feature Importance"
   ]
  },
  {
   "cell_type": "markdown",
   "id": "602ecf0d-5893-4bc4-bb20-d0fcea8581d4",
   "metadata": {},
   "source": [
    "https://scikit-learn.org/stable/modules/permutation_importance.html"
   ]
  },
  {
   "cell_type": "code",
   "execution_count": 15,
   "id": "b9ce389f-4094-4cc9-b4ee-f3f3fc335ec8",
   "metadata": {},
   "outputs": [],
   "source": [
    "r = permutation_importance(\n",
    "    gdclass_pipe, \n",
    "    X_val, \n",
    "    y_val,\n",
    "    n_repeats=10,\n",
    "    n_jobs=-1,\n",
    "    random_state=42\n",
    ")"
   ]
  },
  {
   "cell_type": "code",
   "execution_count": 16,
   "id": "c7e53e41-0072-4f06-954b-692afdd652a6",
   "metadata": {},
   "outputs": [],
   "source": [
    "feature_importances = pd.DataFrame.from_dict(\n",
    "    {\n",
    "        'importance_means': r['importances_mean'],\n",
    "        'importances_std': r['importances_std']\n",
    "    }, orient='columns'\n",
    ")\n",
    "feature_importances.index = X_val.columns"
   ]
  },
  {
   "cell_type": "code",
   "execution_count": 17,
   "id": "80e52b06-d814-4296-a9c1-07d330cef749",
   "metadata": {},
   "outputs": [
    {
     "data": {
      "text/html": [
       "<div>\n",
       "<style scoped>\n",
       "    .dataframe tbody tr th:only-of-type {\n",
       "        vertical-align: middle;\n",
       "    }\n",
       "\n",
       "    .dataframe tbody tr th {\n",
       "        vertical-align: top;\n",
       "    }\n",
       "\n",
       "    .dataframe thead th {\n",
       "        text-align: right;\n",
       "    }\n",
       "</style>\n",
       "<table border=\"1\" class=\"dataframe\">\n",
       "  <thead>\n",
       "    <tr style=\"text-align: right;\">\n",
       "      <th></th>\n",
       "      <th>importance_means</th>\n",
       "      <th>importances_std</th>\n",
       "    </tr>\n",
       "  </thead>\n",
       "  <tbody>\n",
       "    <tr>\n",
       "      <th>HUQ020</th>\n",
       "      <td>0.002579</td>\n",
       "      <td>0.002099</td>\n",
       "    </tr>\n",
       "    <tr>\n",
       "      <th>SLQ050</th>\n",
       "      <td>0.002257</td>\n",
       "      <td>0.002347</td>\n",
       "    </tr>\n",
       "    <tr>\n",
       "      <th>HUQ010</th>\n",
       "      <td>0.002257</td>\n",
       "      <td>0.001940</td>\n",
       "    </tr>\n",
       "    <tr>\n",
       "      <th>HSQ510</th>\n",
       "      <td>0.002063</td>\n",
       "      <td>0.000990</td>\n",
       "    </tr>\n",
       "    <tr>\n",
       "      <th>ALQ151</th>\n",
       "      <td>0.001934</td>\n",
       "      <td>0.002307</td>\n",
       "    </tr>\n",
       "    <tr>\n",
       "      <th>HSQ590</th>\n",
       "      <td>0.001741</td>\n",
       "      <td>0.001191</td>\n",
       "    </tr>\n",
       "    <tr>\n",
       "      <th>HUQ090</th>\n",
       "      <td>0.001741</td>\n",
       "      <td>0.001081</td>\n",
       "    </tr>\n",
       "    <tr>\n",
       "      <th>HSQ500</th>\n",
       "      <td>0.001547</td>\n",
       "      <td>0.002310</td>\n",
       "    </tr>\n",
       "    <tr>\n",
       "      <th>ALQ120Q</th>\n",
       "      <td>0.001096</td>\n",
       "      <td>0.001825</td>\n",
       "    </tr>\n",
       "    <tr>\n",
       "      <th>ALQ141U</th>\n",
       "      <td>0.001032</td>\n",
       "      <td>0.001359</td>\n",
       "    </tr>\n",
       "    <tr>\n",
       "      <th>ALQ120U</th>\n",
       "      <td>0.000645</td>\n",
       "      <td>0.001223</td>\n",
       "    </tr>\n",
       "    <tr>\n",
       "      <th>HSQ520</th>\n",
       "      <td>0.000387</td>\n",
       "      <td>0.000718</td>\n",
       "    </tr>\n",
       "    <tr>\n",
       "      <th>ALQ141Q</th>\n",
       "      <td>0.000322</td>\n",
       "      <td>0.001449</td>\n",
       "    </tr>\n",
       "    <tr>\n",
       "      <th>MCQ080E</th>\n",
       "      <td>0.000000</td>\n",
       "      <td>0.000000</td>\n",
       "    </tr>\n",
       "    <tr>\n",
       "      <th>ECQ020</th>\n",
       "      <td>0.000000</td>\n",
       "      <td>0.000000</td>\n",
       "    </tr>\n",
       "    <tr>\n",
       "      <th>ECD070A</th>\n",
       "      <td>0.000000</td>\n",
       "      <td>0.000000</td>\n",
       "    </tr>\n",
       "    <tr>\n",
       "      <th>HSAQUEX</th>\n",
       "      <td>0.000000</td>\n",
       "      <td>0.000000</td>\n",
       "    </tr>\n",
       "    <tr>\n",
       "      <th>ECD070B</th>\n",
       "      <td>0.000000</td>\n",
       "      <td>0.000000</td>\n",
       "    </tr>\n",
       "    <tr>\n",
       "      <th>ECQ080</th>\n",
       "      <td>0.000000</td>\n",
       "      <td>0.000000</td>\n",
       "    </tr>\n",
       "    <tr>\n",
       "      <th>WHQ030E</th>\n",
       "      <td>0.000000</td>\n",
       "      <td>0.000000</td>\n",
       "    </tr>\n",
       "    <tr>\n",
       "      <th>ECQ090</th>\n",
       "      <td>0.000000</td>\n",
       "      <td>0.000000</td>\n",
       "    </tr>\n",
       "    <tr>\n",
       "      <th>ECD010</th>\n",
       "      <td>0.000000</td>\n",
       "      <td>0.000000</td>\n",
       "    </tr>\n",
       "    <tr>\n",
       "      <th>ECQ150</th>\n",
       "      <td>0.000000</td>\n",
       "      <td>0.000000</td>\n",
       "    </tr>\n",
       "    <tr>\n",
       "      <th>HSQ580</th>\n",
       "      <td>-0.000129</td>\n",
       "      <td>0.000258</td>\n",
       "    </tr>\n",
       "    <tr>\n",
       "      <th>HSQ571</th>\n",
       "      <td>-0.000258</td>\n",
       "      <td>0.000428</td>\n",
       "    </tr>\n",
       "    <tr>\n",
       "      <th>ALQ110</th>\n",
       "      <td>-0.000580</td>\n",
       "      <td>0.001204</td>\n",
       "    </tr>\n",
       "    <tr>\n",
       "      <th>HUQ071</th>\n",
       "      <td>-0.000580</td>\n",
       "      <td>0.000976</td>\n",
       "    </tr>\n",
       "    <tr>\n",
       "      <th>HSD010</th>\n",
       "      <td>-0.000645</td>\n",
       "      <td>0.001977</td>\n",
       "    </tr>\n",
       "    <tr>\n",
       "      <th>HUD080</th>\n",
       "      <td>-0.000645</td>\n",
       "      <td>0.000288</td>\n",
       "    </tr>\n",
       "    <tr>\n",
       "      <th>ALQ101</th>\n",
       "      <td>-0.000709</td>\n",
       "      <td>0.001133</td>\n",
       "    </tr>\n",
       "    <tr>\n",
       "      <th>HUQ030</th>\n",
       "      <td>-0.001225</td>\n",
       "      <td>0.000886</td>\n",
       "    </tr>\n",
       "    <tr>\n",
       "      <th>ALQ130</th>\n",
       "      <td>-0.001999</td>\n",
       "      <td>0.001335</td>\n",
       "    </tr>\n",
       "  </tbody>\n",
       "</table>\n",
       "</div>"
      ],
      "text/plain": [
       "         importance_means  importances_std\n",
       "HUQ020           0.002579         0.002099\n",
       "SLQ050           0.002257         0.002347\n",
       "HUQ010           0.002257         0.001940\n",
       "HSQ510           0.002063         0.000990\n",
       "ALQ151           0.001934         0.002307\n",
       "HSQ590           0.001741         0.001191\n",
       "HUQ090           0.001741         0.001081\n",
       "HSQ500           0.001547         0.002310\n",
       "ALQ120Q          0.001096         0.001825\n",
       "ALQ141U          0.001032         0.001359\n",
       "ALQ120U          0.000645         0.001223\n",
       "HSQ520           0.000387         0.000718\n",
       "ALQ141Q          0.000322         0.001449\n",
       "MCQ080E          0.000000         0.000000\n",
       "ECQ020           0.000000         0.000000\n",
       "ECD070A          0.000000         0.000000\n",
       "HSAQUEX          0.000000         0.000000\n",
       "ECD070B          0.000000         0.000000\n",
       "ECQ080           0.000000         0.000000\n",
       "WHQ030E          0.000000         0.000000\n",
       "ECQ090           0.000000         0.000000\n",
       "ECD010           0.000000         0.000000\n",
       "ECQ150           0.000000         0.000000\n",
       "HSQ580          -0.000129         0.000258\n",
       "HSQ571          -0.000258         0.000428\n",
       "ALQ110          -0.000580         0.001204\n",
       "HUQ071          -0.000580         0.000976\n",
       "HSD010          -0.000645         0.001977\n",
       "HUD080          -0.000645         0.000288\n",
       "ALQ101          -0.000709         0.001133\n",
       "HUQ030          -0.001225         0.000886\n",
       "ALQ130          -0.001999         0.001335"
      ]
     },
     "execution_count": 17,
     "metadata": {},
     "output_type": "execute_result"
    }
   ],
   "source": [
    "feature_importances.sort_values('importance_means', ascending = False)"
   ]
  },
  {
   "cell_type": "markdown",
   "id": "83fc042e-d41c-4f4d-85fd-f0f33c6a79d8",
   "metadata": {},
   "source": [
    "# Hyperparameter Tuning"
   ]
  },
  {
   "cell_type": "markdown",
   "id": "6e3cc5c6-454f-4ce0-a2c9-59992ce9aa81",
   "metadata": {},
   "source": [
    "- https://machinelearningmastery.com/hyperparameters-for-classification-machine-learning-algorithms/\n",
    "- https://medium.com/@kocur4d/hyper-parameter-tuning-with-pipelines-5310aff069d6"
   ]
  },
  {
   "cell_type": "code",
   "execution_count": 24,
   "id": "19502c92-3fef-4f5f-83f4-d3d9814a090a",
   "metadata": {},
   "outputs": [],
   "source": [
    "grid_params = {\n",
    "  'clf__learning_rate': [0.0024, 0.029, 0.1],\n",
    "  'clf__n_estimators': [8, 109, 1000],   \n",
    "}"
   ]
  },
  {
   "cell_type": "code",
   "execution_count": 25,
   "id": "031520d9-f25c-4eab-8a73-2e644f46bcb7",
   "metadata": {},
   "outputs": [],
   "source": [
    "cv = RepeatedStratifiedKFold(n_splits=3, n_repeats=2, random_state=42)\n",
    "grid_search = GridSearchCV(\n",
    "    estimator=gdclass_pipe, \n",
    "    param_grid=grid_params, \n",
    "    n_jobs=-1, \n",
    "    cv=cv, \n",
    "    scoring='roc_auc',\n",
    "    error_score=0\n",
    ")\n",
    "grid_result = grid_search.fit(X_train, y_train)\n"
   ]
  },
  {
   "cell_type": "code",
   "execution_count": 26,
   "id": "b76132af-e42f-4ba3-978a-10f2c812fb5d",
   "metadata": {},
   "outputs": [
    {
     "data": {
      "text/plain": [
       "0.8013721886759293"
      ]
     },
     "execution_count": 26,
     "metadata": {},
     "output_type": "execute_result"
    }
   ],
   "source": [
    "grid_result.best_score_"
   ]
  },
  {
   "cell_type": "code",
   "execution_count": 27,
   "id": "55fef325-1ea8-4ac9-b1f4-089ae2a9192a",
   "metadata": {},
   "outputs": [
    {
     "data": {
      "text/plain": [
       "{'clf__learning_rate': 0.1, 'clf__n_estimators': 1000}"
      ]
     },
     "execution_count": 27,
     "metadata": {},
     "output_type": "execute_result"
    }
   ],
   "source": [
    "grid_result.best_params_"
   ]
  },
  {
   "cell_type": "code",
   "execution_count": 28,
   "id": "1ea38f7f-2bb3-4ce1-9eba-f050266ec3fb",
   "metadata": {},
   "outputs": [
    {
     "data": {
      "text/plain": [
       "Pipeline(steps=[('imputer', SimpleImputer(strategy='most_frequent')),\n",
       "                ('enc', OneHotEncoder(handle_unknown='ignore', sparse=False)),\n",
       "                ('red', PCA(n_components=10)),\n",
       "                ('clf',\n",
       "                 GradientBoostingClassifier(learning_rate=1.0, max_depth=1,\n",
       "                                            random_state=42))])"
      ]
     },
     "execution_count": 28,
     "metadata": {},
     "output_type": "execute_result"
    }
   ],
   "source": [
    "gdclass_pipe = Pipeline([\n",
    "    ('imputer', SimpleImputer(strategy='most_frequent')),\n",
    "    ('enc', OneHotEncoder(sparse=False, handle_unknown='ignore')), \n",
    "    ('red', PCA(n_components=10)),\n",
    "    ('clf', GradientBoostingClassifier(n_estimators=100, learning_rate=1.0,\n",
    "                                       max_depth=1, random_state=42))\n",
    "])\n",
    "gdclass_pipe.fit(X_train, y_train)"
   ]
  },
  {
   "cell_type": "code",
   "execution_count": 29,
   "id": "ecf55afe-d095-4d42-9348-35306170191a",
   "metadata": {},
   "outputs": [
    {
     "name": "stdout",
     "output_type": "stream",
     "text": [
      "0.83514840642087\n"
     ]
    },
    {
     "data": {
      "text/plain": [
       "0.8056080583750578"
      ]
     },
     "execution_count": 29,
     "metadata": {},
     "output_type": "execute_result"
    }
   ],
   "source": [
    "gdclass_training_score = roc_auc_score(y_train.values, gdclass_pipe.predict_proba(X_train)[:, 1])\n",
    "gdclass_validation_score = roc_auc_score(y_val.values, gdclass_pipe.predict_proba(X_val)[:, 1])\n",
    "print(gdclass_training_score)\n",
    "gdclass_validation_score"
   ]
  },
  {
   "cell_type": "markdown",
   "id": "c5c2995c",
   "metadata": {},
   "source": [
    "## Repeat"
   ]
  },
  {
   "cell_type": "code",
   "execution_count": 50,
   "id": "6648b6d4",
   "metadata": {},
   "outputs": [],
   "source": [
    "grid_params = {\n",
    "  'clf__learning_rate': [0.0028, 0.0314, 0.1],\n",
    "  'clf__n_estimators': [7.8, 103, 1000],   \n",
    "}"
   ]
  },
  {
   "cell_type": "code",
   "execution_count": 51,
   "id": "38910c4f",
   "metadata": {},
   "outputs": [],
   "source": [
    "cv = RepeatedStratifiedKFold(n_splits=3, n_repeats=2, random_state=42)\n",
    "grid_search = GridSearchCV(\n",
    "    estimator=gdclass_pipe, \n",
    "    param_grid=grid_params, \n",
    "    n_jobs=-1, \n",
    "    cv=cv, \n",
    "    scoring='roc_auc',\n",
    "    error_score=0\n",
    ")\n",
    "grid_result = grid_search.fit(X_train, y_train)\n"
   ]
  },
  {
   "cell_type": "code",
   "execution_count": 52,
   "id": "e5d8e202",
   "metadata": {},
   "outputs": [
    {
     "data": {
      "text/plain": [
       "0.801234920351984"
      ]
     },
     "execution_count": 52,
     "metadata": {},
     "output_type": "execute_result"
    }
   ],
   "source": [
    "grid_result.best_score_"
   ]
  },
  {
   "cell_type": "code",
   "execution_count": 53,
   "id": "c802073f",
   "metadata": {},
   "outputs": [
    {
     "data": {
      "text/plain": [
       "{'clf__learning_rate': 0.1, 'clf__n_estimators': 1000}"
      ]
     },
     "execution_count": 53,
     "metadata": {},
     "output_type": "execute_result"
    }
   ],
   "source": [
    "grid_result.best_params_"
   ]
  },
  {
   "cell_type": "code",
   "execution_count": 54,
   "id": "7bcd781b",
   "metadata": {},
   "outputs": [
    {
     "data": {
      "text/plain": [
       "Pipeline(steps=[('imputer', SimpleImputer(strategy='most_frequent')),\n",
       "                ('enc', OneHotEncoder(handle_unknown='ignore', sparse=False)),\n",
       "                ('red', PCA(n_components=10)),\n",
       "                ('clf',\n",
       "                 GradientBoostingClassifier(learning_rate=1.0, max_depth=1,\n",
       "                                            random_state=42))])"
      ]
     },
     "execution_count": 54,
     "metadata": {},
     "output_type": "execute_result"
    }
   ],
   "source": [
    "gdclass_pipe = Pipeline([\n",
    "    ('imputer', SimpleImputer(strategy='most_frequent')),\n",
    "    ('enc', OneHotEncoder(sparse=False, handle_unknown='ignore')), \n",
    "    ('red', PCA(n_components=10)),\n",
    "    ('clf', GradientBoostingClassifier(n_estimators=100, learning_rate=1.0,\n",
    "                                       max_depth=1, random_state=42))\n",
    "])\n",
    "gdclass_pipe.fit(X_train, y_train)"
   ]
  },
  {
   "cell_type": "code",
   "execution_count": 55,
   "id": "635b4b80",
   "metadata": {},
   "outputs": [
    {
     "name": "stdout",
     "output_type": "stream",
     "text": [
      "0.8353305959575154\n"
     ]
    },
    {
     "data": {
      "text/plain": [
       "0.8122643052513926"
      ]
     },
     "execution_count": 55,
     "metadata": {},
     "output_type": "execute_result"
    }
   ],
   "source": [
    "gdclass_training_score = roc_auc_score(y_train.values, gdclass_pipe.predict_proba(X_train)[:, 1])\n",
    "gdclass_validation_score = roc_auc_score(y_val.values, gdclass_pipe.predict_proba(X_val)[:, 1])\n",
    "print(gdclass_training_score)\n",
    "gdclass_validation_score"
   ]
  }
 ],
 "metadata": {
  "kernelspec": {
   "display_name": "Python 3",
   "language": "python",
   "name": "python3"
  },
  "language_info": {
   "codemirror_mode": {
    "name": "ipython",
    "version": 3
   },
   "file_extension": ".py",
   "mimetype": "text/x-python",
   "name": "python",
   "nbconvert_exporter": "python",
   "pygments_lexer": "ipython3",
   "version": "3.8.8"
  }
 },
 "nbformat": 4,
 "nbformat_minor": 5
}
